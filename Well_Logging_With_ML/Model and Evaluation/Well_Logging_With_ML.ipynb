{
  "nbformat": 4,
  "nbformat_minor": 0,
  "metadata": {
    "colab": {
      "provenance": []
    },
    "kernelspec": {
      "name": "python3",
      "display_name": "Python 3"
    },
    "language_info": {
      "name": "python"
    }
  },
  "cells": [
    {
      "cell_type": "markdown",
      "source": [
        "#Data Preparation"
      ],
      "metadata": {
        "id": "tmqg9hinSsCh"
      }
    },
    {
      "cell_type": "code",
      "execution_count": 727,
      "metadata": {
        "colab": {
          "base_uri": "https://localhost:8080/"
        },
        "id": "thFtUAwsxO9G",
        "outputId": "295a0cce-c0c0-49ce-9f62-06a3412e1c0a"
      },
      "outputs": [
        {
          "output_type": "stream",
          "name": "stdout",
          "text": [
            "Looking in indexes: https://pypi.org/simple, https://us-python.pkg.dev/colab-wheels/public/simple/\n",
            "Requirement already satisfied: lasio in /usr/local/lib/python3.8/dist-packages (0.30)\n",
            "Requirement already satisfied: numpy in /usr/local/lib/python3.8/dist-packages (from lasio) (1.21.6)\n"
          ]
        }
      ],
      "source": [
        "!pip install lasio"
      ]
    },
    {
      "cell_type": "markdown",
      "source": [
        "##Libraries"
      ],
      "metadata": {
        "id": "LvhU8qzhSvcQ"
      }
    },
    {
      "cell_type": "code",
      "source": [
        "import pandas as pd\n",
        "import numpy as np\n",
        "import lasio"
      ],
      "metadata": {
        "id": "SOi1N8ylx8k2"
      },
      "execution_count": 728,
      "outputs": []
    },
    {
      "cell_type": "markdown",
      "source": [
        "##Data from xeek force competition - considered 10 datasets"
      ],
      "metadata": {
        "id": "kFd4Byf_S2Eg"
      }
    },
    {
      "cell_type": "code",
      "source": [
        "las = lasio.read(r'/content/7_1-2 S.las')\n",
        "df = las.df()\n",
        "df.dropna(inplace = True)\n",
        "df.FORCE_2020_LITHOFACIES_LITHOLOGY.value_counts()"
      ],
      "metadata": {
        "colab": {
          "base_uri": "https://localhost:8080/"
        },
        "id": "D9aw18lmN3OA",
        "outputId": "40ebcef7-9119-402d-e239-4e653f7cdc20"
      },
      "execution_count": 729,
      "outputs": [
        {
          "output_type": "execute_result",
          "data": {
            "text/plain": [
              "30000.0    1321\n",
              "65030.0     187\n",
              "65000.0      22\n",
              "Name: FORCE_2020_LITHOFACIES_LITHOLOGY, dtype: int64"
            ]
          },
          "metadata": {},
          "execution_count": 729
        }
      ]
    },
    {
      "cell_type": "code",
      "source": [
        "df.dropna(inplace = True)\n",
        "df.shape"
      ],
      "metadata": {
        "colab": {
          "base_uri": "https://localhost:8080/"
        },
        "id": "4orPyy2wz9l6",
        "outputId": "c3e9749a-e969-4361-90ab-02cd1fa8c093"
      },
      "execution_count": 730,
      "outputs": [
        {
          "output_type": "execute_result",
          "data": {
            "text/plain": [
              "(1530, 20)"
            ]
          },
          "metadata": {},
          "execution_count": 730
        }
      ]
    },
    {
      "cell_type": "code",
      "source": [
        "df.head"
      ],
      "metadata": {
        "id": "kyw3hebh9gzM"
      },
      "execution_count": null,
      "outputs": []
    },
    {
      "cell_type": "code",
      "source": [
        "las2 = lasio.read(r'/content/15_9-14.las')\n",
        "df2 = las2.df()\n",
        "df2.dropna(inplace = True)\n",
        "df2.FORCE_2020_LITHOFACIES_LITHOLOGY.value_counts()"
      ],
      "metadata": {
        "colab": {
          "base_uri": "https://localhost:8080/"
        },
        "id": "0enUsJsPFoKE",
        "outputId": "40f96e23-76af-497c-e0a4-7c1a5773f49e"
      },
      "execution_count": 732,
      "outputs": [
        {
          "output_type": "execute_result",
          "data": {
            "text/plain": [
              "70000.0    315\n",
              "80000.0    114\n",
              "Name: FORCE_2020_LITHOFACIES_LITHOLOGY, dtype: int64"
            ]
          },
          "metadata": {},
          "execution_count": 732
        }
      ]
    },
    {
      "cell_type": "code",
      "source": [
        "las3 = lasio.read(r'/content/15_9-13.las')\n",
        "df3 = las3.df()\n",
        "df3.dropna(inplace = True)\n",
        "df3.FORCE_2020_LITHOFACIES_LITHOLOGY.value_counts()"
      ],
      "metadata": {
        "colab": {
          "base_uri": "https://localhost:8080/"
        },
        "id": "dyc9fVbBOOLN",
        "outputId": "10b0c8b5-c7c8-4804-a29e-b6d46b9629e0"
      },
      "execution_count": 733,
      "outputs": [
        {
          "output_type": "execute_result",
          "data": {
            "text/plain": [
              "65000.0    736\n",
              "30000.0    543\n",
              "70000.0    283\n",
              "65030.0     36\n",
              "80000.0     25\n",
              "Name: FORCE_2020_LITHOFACIES_LITHOLOGY, dtype: int64"
            ]
          },
          "metadata": {},
          "execution_count": 733
        }
      ]
    },
    {
      "cell_type": "code",
      "source": [
        "df.columns"
      ],
      "metadata": {
        "colab": {
          "base_uri": "https://localhost:8080/"
        },
        "id": "uR0UBtHrOchg",
        "outputId": "06a70300-cf32-499b-960f-0279aac5f16e"
      },
      "execution_count": 734,
      "outputs": [
        {
          "output_type": "execute_result",
          "data": {
            "text/plain": [
              "Index(['FORCE_2020_LITHOFACIES_CONFIDENCE', 'FORCE_2020_LITHOFACIES_LITHOLOGY',\n",
              "       'CALI', 'BS', 'ROPA', 'ROP', 'RDEP', 'RSHA', 'RMED', 'DTS', 'DTC',\n",
              "       'NPHI', 'PEF', 'GR', 'RHOB', 'DRHO', 'DEPTH_MD', 'X_LOC', 'Y_LOC',\n",
              "       'Z_LOC'],\n",
              "      dtype='object')"
            ]
          },
          "metadata": {},
          "execution_count": 734
        }
      ]
    },
    {
      "cell_type": "code",
      "source": [
        "las4 = lasio.read(r'/content/16_1-2.las')\n",
        "df4 = las4.df()\n",
        "df4.dropna(inplace = True)\n",
        "df4.FORCE_2020_LITHOFACIES_LITHOLOGY.value_counts()"
      ],
      "metadata": {
        "colab": {
          "base_uri": "https://localhost:8080/"
        },
        "id": "GHGu-dccOh2B",
        "outputId": "079ce687-86e5-49ba-8a06-0fb551bec44e"
      },
      "execution_count": 735,
      "outputs": [
        {
          "output_type": "execute_result",
          "data": {
            "text/plain": [
              "30000.0    688\n",
              "65000.0    515\n",
              "70000.0    269\n",
              "80000.0    124\n",
              "74000.0     43\n",
              "Name: FORCE_2020_LITHOFACIES_LITHOLOGY, dtype: int64"
            ]
          },
          "metadata": {},
          "execution_count": 735
        }
      ]
    },
    {
      "cell_type": "code",
      "source": [
        "las5 = lasio.read(r'/content/16_2-6.las')\n",
        "df5 = las5.df()\n",
        "df5.dropna(inplace = True)\n",
        "df5.FORCE_2020_LITHOFACIES_LITHOLOGY.value_counts()"
      ],
      "metadata": {
        "colab": {
          "base_uri": "https://localhost:8080/"
        },
        "id": "mupWtNMLPM4n",
        "outputId": "27799545-f15e-4407-b1ce-ca66a2c0ff6f"
      },
      "execution_count": 736,
      "outputs": [
        {
          "output_type": "execute_result",
          "data": {
            "text/plain": [
              "70000.0    921\n",
              "30000.0    373\n",
              "80000.0    236\n",
              "65030.0     65\n",
              "65000.0     35\n",
              "74000.0     24\n",
              "Name: FORCE_2020_LITHOFACIES_LITHOLOGY, dtype: int64"
            ]
          },
          "metadata": {},
          "execution_count": 736
        }
      ]
    },
    {
      "cell_type": "code",
      "source": [
        "las6 = lasio.read(r'/content/16_2-7.las')\n",
        "df6 = las6.df()\n",
        "df6.dropna(inplace = True)\n",
        "df6.FORCE_2020_LITHOFACIES_LITHOLOGY.value_counts()"
      ],
      "metadata": {
        "colab": {
          "base_uri": "https://localhost:8080/"
        },
        "id": "0pKHM_dnPerY",
        "outputId": "52238e94-7fef-4c7f-bd11-6bf6fa2dab73"
      },
      "execution_count": 737,
      "outputs": [
        {
          "output_type": "execute_result",
          "data": {
            "text/plain": [
              "80000.0    864\n",
              "70000.0    284\n",
              "30000.0    216\n",
              "65000.0    205\n",
              "65030.0     91\n",
              "Name: FORCE_2020_LITHOFACIES_LITHOLOGY, dtype: int64"
            ]
          },
          "metadata": {},
          "execution_count": 737
        }
      ]
    },
    {
      "cell_type": "code",
      "source": [
        "las7 = lasio.read(r'/content/25_3-1.las')\n",
        "df7 = las7.df()\n",
        "df7.dropna(inplace = True)\n",
        "df7.FORCE_2020_LITHOFACIES_LITHOLOGY.value_counts()"
      ],
      "metadata": {
        "colab": {
          "base_uri": "https://localhost:8080/"
        },
        "id": "PFM6P9V2Q5v3",
        "outputId": "12bfc2eb-ebcc-472f-89b5-3b40f572ebee"
      },
      "execution_count": 738,
      "outputs": [
        {
          "output_type": "execute_result",
          "data": {
            "text/plain": [
              "65000.0    4069\n",
              "30000.0    1004\n",
              "65030.0     664\n",
              "90000.0      96\n",
              "80000.0      33\n",
              "70000.0      20\n",
              "Name: FORCE_2020_LITHOFACIES_LITHOLOGY, dtype: int64"
            ]
          },
          "metadata": {},
          "execution_count": 738
        }
      ]
    },
    {
      "cell_type": "code",
      "source": [
        "las8 = lasio.read(r'/content/25_5-3.las')\n",
        "df8 = las8.df()\n",
        "df8.dropna(inplace = True)\n",
        "df8.FORCE_2020_LITHOFACIES_LITHOLOGY.value_counts()"
      ],
      "metadata": {
        "colab": {
          "base_uri": "https://localhost:8080/"
        },
        "id": "I3BllFPJRWW0",
        "outputId": "73fa085a-859d-4efe-b59a-ba8f32126038"
      },
      "execution_count": 739,
      "outputs": [
        {
          "output_type": "execute_result",
          "data": {
            "text/plain": [
              "30000.0    355\n",
              "65000.0    350\n",
              "65030.0    139\n",
              "90000.0     12\n",
              "Name: FORCE_2020_LITHOFACIES_LITHOLOGY, dtype: int64"
            ]
          },
          "metadata": {},
          "execution_count": 739
        }
      ]
    },
    {
      "cell_type": "code",
      "source": [
        "las9 = lasio.read(r'/content/31_2-1.las')\n",
        "df9 = las9.df()\n",
        "df9.dropna(inplace = True)\n",
        "df9.FORCE_2020_LITHOFACIES_LITHOLOGY.value_counts()"
      ],
      "metadata": {
        "colab": {
          "base_uri": "https://localhost:8080/"
        },
        "id": "i-M25SngRjvq",
        "outputId": "055f7e31-8b82-430c-a7bd-b518dd12a658"
      },
      "execution_count": 740,
      "outputs": [
        {
          "output_type": "execute_result",
          "data": {
            "text/plain": [
              "65000.0    953\n",
              "65030.0    757\n",
              "30000.0    721\n",
              "80000.0    109\n",
              "70000.0    104\n",
              "Name: FORCE_2020_LITHOFACIES_LITHOLOGY, dtype: int64"
            ]
          },
          "metadata": {},
          "execution_count": 740
        }
      ]
    },
    {
      "cell_type": "code",
      "source": [
        "las10 = lasio.read(r'/content/31_4-5.las')\n",
        "df10 = las10.df()\n",
        "df10.dropna(inplace = True)\n",
        "df10.FORCE_2020_LITHOFACIES_LITHOLOGY.value_counts()"
      ],
      "metadata": {
        "colab": {
          "base_uri": "https://localhost:8080/"
        },
        "id": "0-1U2HYTRszZ",
        "outputId": "5c5f77c2-2b87-4724-a043-ef41d935728d"
      },
      "execution_count": 741,
      "outputs": [
        {
          "output_type": "execute_result",
          "data": {
            "text/plain": [
              "65030.0    678\n",
              "65000.0    625\n",
              "30000.0    508\n",
              "70000.0    176\n",
              "80000.0     58\n",
              "Name: FORCE_2020_LITHOFACIES_LITHOLOGY, dtype: int64"
            ]
          },
          "metadata": {},
          "execution_count": 741
        }
      ]
    },
    {
      "cell_type": "markdown",
      "source": [
        "##Combinig Datasets"
      ],
      "metadata": {
        "id": "-XE3SzriTBQO"
      }
    },
    {
      "cell_type": "code",
      "source": [
        "data = pd.concat([df,df2,df3,df4,df5,df6,df8,df9,df10], axis = 0)"
      ],
      "metadata": {
        "id": "rX0V7nddScjH"
      },
      "execution_count": 742,
      "outputs": []
    },
    {
      "cell_type": "code",
      "source": [
        "data.shape"
      ],
      "metadata": {
        "colab": {
          "base_uri": "https://localhost:8080/"
        },
        "id": "BxEwQUv9Sx0W",
        "outputId": "bf21243f-8677-42f1-82b7-f233701a6ef8"
      },
      "execution_count": 743,
      "outputs": [
        {
          "output_type": "execute_result",
          "data": {
            "text/plain": [
              "(14080, 26)"
            ]
          },
          "metadata": {},
          "execution_count": 743
        }
      ]
    },
    {
      "cell_type": "markdown",
      "source": [
        "##About Data"
      ],
      "metadata": {
        "id": "1fMLaYYPTGb6"
      }
    },
    {
      "cell_type": "code",
      "source": [
        "data.to_csv(\"/content/log_data.csv\")"
      ],
      "metadata": {
        "id": "lxl9zwfsS8pD"
      },
      "execution_count": 744,
      "outputs": []
    },
    {
      "cell_type": "code",
      "source": [
        "data.FORCE_2020_LITHOFACIES_LITHOLOGY.value_counts()"
      ],
      "metadata": {
        "colab": {
          "base_uri": "https://localhost:8080/"
        },
        "id": "n5W4ukhbSzHO",
        "outputId": "371b5aff-56f6-4b38-b8d2-139a10cdbf2a"
      },
      "execution_count": 745,
      "outputs": [
        {
          "output_type": "execute_result",
          "data": {
            "text/plain": [
              "30000.0    4725\n",
              "65000.0    3441\n",
              "70000.0    2352\n",
              "65030.0    1953\n",
              "80000.0    1530\n",
              "74000.0      67\n",
              "90000.0      12\n",
              "Name: FORCE_2020_LITHOFACIES_LITHOLOGY, dtype: int64"
            ]
          },
          "metadata": {},
          "execution_count": 745
        }
      ]
    },
    {
      "cell_type": "code",
      "source": [
        "data.head()"
      ],
      "metadata": {
        "colab": {
          "base_uri": "https://localhost:8080/",
          "height": 331
        },
        "id": "uK1uLjXvTLbD",
        "outputId": "408e5182-c400-4006-ea03-a4645339791c"
      },
      "execution_count": 746,
      "outputs": [
        {
          "output_type": "execute_result",
          "data": {
            "text/plain": [
              "           FORCE_2020_LITHOFACIES_CONFIDENCE  \\\n",
              "DEPT                                           \n",
              "2927.7844                                2.0   \n",
              "2927.9364                                2.0   \n",
              "2928.0884                                2.0   \n",
              "2928.2404                                2.0   \n",
              "2928.3924                                2.0   \n",
              "\n",
              "           FORCE_2020_LITHOFACIES_LITHOLOGY      CALI         BS       ROPA  \\\n",
              "DEPT                                                                          \n",
              "2927.7844                           65030.0  8.869191  12.250001  25.167536   \n",
              "2927.9364                           65030.0  8.864833  12.250001  23.963020   \n",
              "2928.0884                           65030.0  8.837524  12.250001  23.825737   \n",
              "2928.2404                           65030.0  8.838326  12.250001  24.269821   \n",
              "2928.3924                           65030.0  8.846111  12.250001  24.782362   \n",
              "\n",
              "                 ROP      RDEP      RSHA      RMED         DTS  ...  \\\n",
              "DEPT                                                            ...   \n",
              "2927.7844  22.842165  2.842462  2.534627  3.020515  151.029236  ...   \n",
              "2927.9364  21.530174  2.728668  2.681297  3.016522  145.162735  ...   \n",
              "2928.0884  19.636332  2.934029  3.134141  3.356003  140.316040  ...   \n",
              "2928.2404  18.848274  3.507820  3.995121  4.203135  137.683212  ...   \n",
              "2928.3924  17.756601  4.167062  4.923522  5.212438  137.985367  ...   \n",
              "\n",
              "              DEPTH_MD         X_LOC      Y_LOC        Z_LOC  MUDWEIGHT  RXO  \\\n",
              "DEPT                                                                           \n",
              "2927.7844  2927.784424  444920.34375  6421580.5 -2866.935303        NaN  NaN   \n",
              "2927.9364  2927.936279  444920.34375  6421580.5 -2867.087158        NaN  NaN   \n",
              "2928.0884  2928.088379  444920.34375  6421580.5 -2867.239258        NaN  NaN   \n",
              "2928.2404  2928.240478  444920.34375  6421580.5 -2867.391357        NaN  NaN   \n",
              "2928.3924  2928.392334  444920.34375  6421580.5 -2867.543213        NaN  NaN   \n",
              "\n",
              "           SP  DCAL  RMIC  SGR  \n",
              "DEPT                            \n",
              "2927.7844 NaN   NaN   NaN  NaN  \n",
              "2927.9364 NaN   NaN   NaN  NaN  \n",
              "2928.0884 NaN   NaN   NaN  NaN  \n",
              "2928.2404 NaN   NaN   NaN  NaN  \n",
              "2928.3924 NaN   NaN   NaN  NaN  \n",
              "\n",
              "[5 rows x 26 columns]"
            ],
            "text/html": [
              "\n",
              "  <div id=\"df-24799a17-d566-43a9-ac44-bf4e084de726\">\n",
              "    <div class=\"colab-df-container\">\n",
              "      <div>\n",
              "<style scoped>\n",
              "    .dataframe tbody tr th:only-of-type {\n",
              "        vertical-align: middle;\n",
              "    }\n",
              "\n",
              "    .dataframe tbody tr th {\n",
              "        vertical-align: top;\n",
              "    }\n",
              "\n",
              "    .dataframe thead th {\n",
              "        text-align: right;\n",
              "    }\n",
              "</style>\n",
              "<table border=\"1\" class=\"dataframe\">\n",
              "  <thead>\n",
              "    <tr style=\"text-align: right;\">\n",
              "      <th></th>\n",
              "      <th>FORCE_2020_LITHOFACIES_CONFIDENCE</th>\n",
              "      <th>FORCE_2020_LITHOFACIES_LITHOLOGY</th>\n",
              "      <th>CALI</th>\n",
              "      <th>BS</th>\n",
              "      <th>ROPA</th>\n",
              "      <th>ROP</th>\n",
              "      <th>RDEP</th>\n",
              "      <th>RSHA</th>\n",
              "      <th>RMED</th>\n",
              "      <th>DTS</th>\n",
              "      <th>...</th>\n",
              "      <th>DEPTH_MD</th>\n",
              "      <th>X_LOC</th>\n",
              "      <th>Y_LOC</th>\n",
              "      <th>Z_LOC</th>\n",
              "      <th>MUDWEIGHT</th>\n",
              "      <th>RXO</th>\n",
              "      <th>SP</th>\n",
              "      <th>DCAL</th>\n",
              "      <th>RMIC</th>\n",
              "      <th>SGR</th>\n",
              "    </tr>\n",
              "    <tr>\n",
              "      <th>DEPT</th>\n",
              "      <th></th>\n",
              "      <th></th>\n",
              "      <th></th>\n",
              "      <th></th>\n",
              "      <th></th>\n",
              "      <th></th>\n",
              "      <th></th>\n",
              "      <th></th>\n",
              "      <th></th>\n",
              "      <th></th>\n",
              "      <th></th>\n",
              "      <th></th>\n",
              "      <th></th>\n",
              "      <th></th>\n",
              "      <th></th>\n",
              "      <th></th>\n",
              "      <th></th>\n",
              "      <th></th>\n",
              "      <th></th>\n",
              "      <th></th>\n",
              "      <th></th>\n",
              "    </tr>\n",
              "  </thead>\n",
              "  <tbody>\n",
              "    <tr>\n",
              "      <th>2927.7844</th>\n",
              "      <td>2.0</td>\n",
              "      <td>65030.0</td>\n",
              "      <td>8.869191</td>\n",
              "      <td>12.250001</td>\n",
              "      <td>25.167536</td>\n",
              "      <td>22.842165</td>\n",
              "      <td>2.842462</td>\n",
              "      <td>2.534627</td>\n",
              "      <td>3.020515</td>\n",
              "      <td>151.029236</td>\n",
              "      <td>...</td>\n",
              "      <td>2927.784424</td>\n",
              "      <td>444920.34375</td>\n",
              "      <td>6421580.5</td>\n",
              "      <td>-2866.935303</td>\n",
              "      <td>NaN</td>\n",
              "      <td>NaN</td>\n",
              "      <td>NaN</td>\n",
              "      <td>NaN</td>\n",
              "      <td>NaN</td>\n",
              "      <td>NaN</td>\n",
              "    </tr>\n",
              "    <tr>\n",
              "      <th>2927.9364</th>\n",
              "      <td>2.0</td>\n",
              "      <td>65030.0</td>\n",
              "      <td>8.864833</td>\n",
              "      <td>12.250001</td>\n",
              "      <td>23.963020</td>\n",
              "      <td>21.530174</td>\n",
              "      <td>2.728668</td>\n",
              "      <td>2.681297</td>\n",
              "      <td>3.016522</td>\n",
              "      <td>145.162735</td>\n",
              "      <td>...</td>\n",
              "      <td>2927.936279</td>\n",
              "      <td>444920.34375</td>\n",
              "      <td>6421580.5</td>\n",
              "      <td>-2867.087158</td>\n",
              "      <td>NaN</td>\n",
              "      <td>NaN</td>\n",
              "      <td>NaN</td>\n",
              "      <td>NaN</td>\n",
              "      <td>NaN</td>\n",
              "      <td>NaN</td>\n",
              "    </tr>\n",
              "    <tr>\n",
              "      <th>2928.0884</th>\n",
              "      <td>2.0</td>\n",
              "      <td>65030.0</td>\n",
              "      <td>8.837524</td>\n",
              "      <td>12.250001</td>\n",
              "      <td>23.825737</td>\n",
              "      <td>19.636332</td>\n",
              "      <td>2.934029</td>\n",
              "      <td>3.134141</td>\n",
              "      <td>3.356003</td>\n",
              "      <td>140.316040</td>\n",
              "      <td>...</td>\n",
              "      <td>2928.088379</td>\n",
              "      <td>444920.34375</td>\n",
              "      <td>6421580.5</td>\n",
              "      <td>-2867.239258</td>\n",
              "      <td>NaN</td>\n",
              "      <td>NaN</td>\n",
              "      <td>NaN</td>\n",
              "      <td>NaN</td>\n",
              "      <td>NaN</td>\n",
              "      <td>NaN</td>\n",
              "    </tr>\n",
              "    <tr>\n",
              "      <th>2928.2404</th>\n",
              "      <td>2.0</td>\n",
              "      <td>65030.0</td>\n",
              "      <td>8.838326</td>\n",
              "      <td>12.250001</td>\n",
              "      <td>24.269821</td>\n",
              "      <td>18.848274</td>\n",
              "      <td>3.507820</td>\n",
              "      <td>3.995121</td>\n",
              "      <td>4.203135</td>\n",
              "      <td>137.683212</td>\n",
              "      <td>...</td>\n",
              "      <td>2928.240478</td>\n",
              "      <td>444920.34375</td>\n",
              "      <td>6421580.5</td>\n",
              "      <td>-2867.391357</td>\n",
              "      <td>NaN</td>\n",
              "      <td>NaN</td>\n",
              "      <td>NaN</td>\n",
              "      <td>NaN</td>\n",
              "      <td>NaN</td>\n",
              "      <td>NaN</td>\n",
              "    </tr>\n",
              "    <tr>\n",
              "      <th>2928.3924</th>\n",
              "      <td>2.0</td>\n",
              "      <td>65030.0</td>\n",
              "      <td>8.846111</td>\n",
              "      <td>12.250001</td>\n",
              "      <td>24.782362</td>\n",
              "      <td>17.756601</td>\n",
              "      <td>4.167062</td>\n",
              "      <td>4.923522</td>\n",
              "      <td>5.212438</td>\n",
              "      <td>137.985367</td>\n",
              "      <td>...</td>\n",
              "      <td>2928.392334</td>\n",
              "      <td>444920.34375</td>\n",
              "      <td>6421580.5</td>\n",
              "      <td>-2867.543213</td>\n",
              "      <td>NaN</td>\n",
              "      <td>NaN</td>\n",
              "      <td>NaN</td>\n",
              "      <td>NaN</td>\n",
              "      <td>NaN</td>\n",
              "      <td>NaN</td>\n",
              "    </tr>\n",
              "  </tbody>\n",
              "</table>\n",
              "<p>5 rows × 26 columns</p>\n",
              "</div>\n",
              "      <button class=\"colab-df-convert\" onclick=\"convertToInteractive('df-24799a17-d566-43a9-ac44-bf4e084de726')\"\n",
              "              title=\"Convert this dataframe to an interactive table.\"\n",
              "              style=\"display:none;\">\n",
              "        \n",
              "  <svg xmlns=\"http://www.w3.org/2000/svg\" height=\"24px\"viewBox=\"0 0 24 24\"\n",
              "       width=\"24px\">\n",
              "    <path d=\"M0 0h24v24H0V0z\" fill=\"none\"/>\n",
              "    <path d=\"M18.56 5.44l.94 2.06.94-2.06 2.06-.94-2.06-.94-.94-2.06-.94 2.06-2.06.94zm-11 1L8.5 8.5l.94-2.06 2.06-.94-2.06-.94L8.5 2.5l-.94 2.06-2.06.94zm10 10l.94 2.06.94-2.06 2.06-.94-2.06-.94-.94-2.06-.94 2.06-2.06.94z\"/><path d=\"M17.41 7.96l-1.37-1.37c-.4-.4-.92-.59-1.43-.59-.52 0-1.04.2-1.43.59L10.3 9.45l-7.72 7.72c-.78.78-.78 2.05 0 2.83L4 21.41c.39.39.9.59 1.41.59.51 0 1.02-.2 1.41-.59l7.78-7.78 2.81-2.81c.8-.78.8-2.07 0-2.86zM5.41 20L4 18.59l7.72-7.72 1.47 1.35L5.41 20z\"/>\n",
              "  </svg>\n",
              "      </button>\n",
              "      \n",
              "  <style>\n",
              "    .colab-df-container {\n",
              "      display:flex;\n",
              "      flex-wrap:wrap;\n",
              "      gap: 12px;\n",
              "    }\n",
              "\n",
              "    .colab-df-convert {\n",
              "      background-color: #E8F0FE;\n",
              "      border: none;\n",
              "      border-radius: 50%;\n",
              "      cursor: pointer;\n",
              "      display: none;\n",
              "      fill: #1967D2;\n",
              "      height: 32px;\n",
              "      padding: 0 0 0 0;\n",
              "      width: 32px;\n",
              "    }\n",
              "\n",
              "    .colab-df-convert:hover {\n",
              "      background-color: #E2EBFA;\n",
              "      box-shadow: 0px 1px 2px rgba(60, 64, 67, 0.3), 0px 1px 3px 1px rgba(60, 64, 67, 0.15);\n",
              "      fill: #174EA6;\n",
              "    }\n",
              "\n",
              "    [theme=dark] .colab-df-convert {\n",
              "      background-color: #3B4455;\n",
              "      fill: #D2E3FC;\n",
              "    }\n",
              "\n",
              "    [theme=dark] .colab-df-convert:hover {\n",
              "      background-color: #434B5C;\n",
              "      box-shadow: 0px 1px 3px 1px rgba(0, 0, 0, 0.15);\n",
              "      filter: drop-shadow(0px 1px 2px rgba(0, 0, 0, 0.3));\n",
              "      fill: #FFFFFF;\n",
              "    }\n",
              "  </style>\n",
              "\n",
              "      <script>\n",
              "        const buttonEl =\n",
              "          document.querySelector('#df-24799a17-d566-43a9-ac44-bf4e084de726 button.colab-df-convert');\n",
              "        buttonEl.style.display =\n",
              "          google.colab.kernel.accessAllowed ? 'block' : 'none';\n",
              "\n",
              "        async function convertToInteractive(key) {\n",
              "          const element = document.querySelector('#df-24799a17-d566-43a9-ac44-bf4e084de726');\n",
              "          const dataTable =\n",
              "            await google.colab.kernel.invokeFunction('convertToInteractive',\n",
              "                                                     [key], {});\n",
              "          if (!dataTable) return;\n",
              "\n",
              "          const docLinkHtml = 'Like what you see? Visit the ' +\n",
              "            '<a target=\"_blank\" href=https://colab.research.google.com/notebooks/data_table.ipynb>data table notebook</a>'\n",
              "            + ' to learn more about interactive tables.';\n",
              "          element.innerHTML = '';\n",
              "          dataTable['output_type'] = 'display_data';\n",
              "          await google.colab.output.renderOutput(dataTable, element);\n",
              "          const docLink = document.createElement('div');\n",
              "          docLink.innerHTML = docLinkHtml;\n",
              "          element.appendChild(docLink);\n",
              "        }\n",
              "      </script>\n",
              "    </div>\n",
              "  </div>\n",
              "  "
            ]
          },
          "metadata": {},
          "execution_count": 746
        }
      ]
    },
    {
      "cell_type": "code",
      "source": [
        "data_filtered = data[data.FORCE_2020_LITHOFACIES_LITHOLOGY != 74000]"
      ],
      "metadata": {
        "id": "E4xoM8YqTTBd"
      },
      "execution_count": 747,
      "outputs": []
    },
    {
      "cell_type": "code",
      "source": [
        "data_filterd = data[data.FORCE_2020_LITHOFACIES_LITHOLOGY != 90000]"
      ],
      "metadata": {
        "id": "XgLEqr56TrE4"
      },
      "execution_count": 748,
      "outputs": []
    },
    {
      "cell_type": "code",
      "source": [
        "data_filtered.head()"
      ],
      "metadata": {
        "colab": {
          "base_uri": "https://localhost:8080/",
          "height": 331
        },
        "id": "v-JWhU3WT80s",
        "outputId": "cb522c0e-f4d2-4f2b-9901-d6f6c24cbf6b"
      },
      "execution_count": 749,
      "outputs": [
        {
          "output_type": "execute_result",
          "data": {
            "text/plain": [
              "           FORCE_2020_LITHOFACIES_CONFIDENCE  \\\n",
              "DEPT                                           \n",
              "2927.7844                                2.0   \n",
              "2927.9364                                2.0   \n",
              "2928.0884                                2.0   \n",
              "2928.2404                                2.0   \n",
              "2928.3924                                2.0   \n",
              "\n",
              "           FORCE_2020_LITHOFACIES_LITHOLOGY      CALI         BS       ROPA  \\\n",
              "DEPT                                                                          \n",
              "2927.7844                           65030.0  8.869191  12.250001  25.167536   \n",
              "2927.9364                           65030.0  8.864833  12.250001  23.963020   \n",
              "2928.0884                           65030.0  8.837524  12.250001  23.825737   \n",
              "2928.2404                           65030.0  8.838326  12.250001  24.269821   \n",
              "2928.3924                           65030.0  8.846111  12.250001  24.782362   \n",
              "\n",
              "                 ROP      RDEP      RSHA      RMED         DTS  ...  \\\n",
              "DEPT                                                            ...   \n",
              "2927.7844  22.842165  2.842462  2.534627  3.020515  151.029236  ...   \n",
              "2927.9364  21.530174  2.728668  2.681297  3.016522  145.162735  ...   \n",
              "2928.0884  19.636332  2.934029  3.134141  3.356003  140.316040  ...   \n",
              "2928.2404  18.848274  3.507820  3.995121  4.203135  137.683212  ...   \n",
              "2928.3924  17.756601  4.167062  4.923522  5.212438  137.985367  ...   \n",
              "\n",
              "              DEPTH_MD         X_LOC      Y_LOC        Z_LOC  MUDWEIGHT  RXO  \\\n",
              "DEPT                                                                           \n",
              "2927.7844  2927.784424  444920.34375  6421580.5 -2866.935303        NaN  NaN   \n",
              "2927.9364  2927.936279  444920.34375  6421580.5 -2867.087158        NaN  NaN   \n",
              "2928.0884  2928.088379  444920.34375  6421580.5 -2867.239258        NaN  NaN   \n",
              "2928.2404  2928.240478  444920.34375  6421580.5 -2867.391357        NaN  NaN   \n",
              "2928.3924  2928.392334  444920.34375  6421580.5 -2867.543213        NaN  NaN   \n",
              "\n",
              "           SP  DCAL  RMIC  SGR  \n",
              "DEPT                            \n",
              "2927.7844 NaN   NaN   NaN  NaN  \n",
              "2927.9364 NaN   NaN   NaN  NaN  \n",
              "2928.0884 NaN   NaN   NaN  NaN  \n",
              "2928.2404 NaN   NaN   NaN  NaN  \n",
              "2928.3924 NaN   NaN   NaN  NaN  \n",
              "\n",
              "[5 rows x 26 columns]"
            ],
            "text/html": [
              "\n",
              "  <div id=\"df-ecf64048-9e09-4440-967c-2eeaf87063a7\">\n",
              "    <div class=\"colab-df-container\">\n",
              "      <div>\n",
              "<style scoped>\n",
              "    .dataframe tbody tr th:only-of-type {\n",
              "        vertical-align: middle;\n",
              "    }\n",
              "\n",
              "    .dataframe tbody tr th {\n",
              "        vertical-align: top;\n",
              "    }\n",
              "\n",
              "    .dataframe thead th {\n",
              "        text-align: right;\n",
              "    }\n",
              "</style>\n",
              "<table border=\"1\" class=\"dataframe\">\n",
              "  <thead>\n",
              "    <tr style=\"text-align: right;\">\n",
              "      <th></th>\n",
              "      <th>FORCE_2020_LITHOFACIES_CONFIDENCE</th>\n",
              "      <th>FORCE_2020_LITHOFACIES_LITHOLOGY</th>\n",
              "      <th>CALI</th>\n",
              "      <th>BS</th>\n",
              "      <th>ROPA</th>\n",
              "      <th>ROP</th>\n",
              "      <th>RDEP</th>\n",
              "      <th>RSHA</th>\n",
              "      <th>RMED</th>\n",
              "      <th>DTS</th>\n",
              "      <th>...</th>\n",
              "      <th>DEPTH_MD</th>\n",
              "      <th>X_LOC</th>\n",
              "      <th>Y_LOC</th>\n",
              "      <th>Z_LOC</th>\n",
              "      <th>MUDWEIGHT</th>\n",
              "      <th>RXO</th>\n",
              "      <th>SP</th>\n",
              "      <th>DCAL</th>\n",
              "      <th>RMIC</th>\n",
              "      <th>SGR</th>\n",
              "    </tr>\n",
              "    <tr>\n",
              "      <th>DEPT</th>\n",
              "      <th></th>\n",
              "      <th></th>\n",
              "      <th></th>\n",
              "      <th></th>\n",
              "      <th></th>\n",
              "      <th></th>\n",
              "      <th></th>\n",
              "      <th></th>\n",
              "      <th></th>\n",
              "      <th></th>\n",
              "      <th></th>\n",
              "      <th></th>\n",
              "      <th></th>\n",
              "      <th></th>\n",
              "      <th></th>\n",
              "      <th></th>\n",
              "      <th></th>\n",
              "      <th></th>\n",
              "      <th></th>\n",
              "      <th></th>\n",
              "      <th></th>\n",
              "    </tr>\n",
              "  </thead>\n",
              "  <tbody>\n",
              "    <tr>\n",
              "      <th>2927.7844</th>\n",
              "      <td>2.0</td>\n",
              "      <td>65030.0</td>\n",
              "      <td>8.869191</td>\n",
              "      <td>12.250001</td>\n",
              "      <td>25.167536</td>\n",
              "      <td>22.842165</td>\n",
              "      <td>2.842462</td>\n",
              "      <td>2.534627</td>\n",
              "      <td>3.020515</td>\n",
              "      <td>151.029236</td>\n",
              "      <td>...</td>\n",
              "      <td>2927.784424</td>\n",
              "      <td>444920.34375</td>\n",
              "      <td>6421580.5</td>\n",
              "      <td>-2866.935303</td>\n",
              "      <td>NaN</td>\n",
              "      <td>NaN</td>\n",
              "      <td>NaN</td>\n",
              "      <td>NaN</td>\n",
              "      <td>NaN</td>\n",
              "      <td>NaN</td>\n",
              "    </tr>\n",
              "    <tr>\n",
              "      <th>2927.9364</th>\n",
              "      <td>2.0</td>\n",
              "      <td>65030.0</td>\n",
              "      <td>8.864833</td>\n",
              "      <td>12.250001</td>\n",
              "      <td>23.963020</td>\n",
              "      <td>21.530174</td>\n",
              "      <td>2.728668</td>\n",
              "      <td>2.681297</td>\n",
              "      <td>3.016522</td>\n",
              "      <td>145.162735</td>\n",
              "      <td>...</td>\n",
              "      <td>2927.936279</td>\n",
              "      <td>444920.34375</td>\n",
              "      <td>6421580.5</td>\n",
              "      <td>-2867.087158</td>\n",
              "      <td>NaN</td>\n",
              "      <td>NaN</td>\n",
              "      <td>NaN</td>\n",
              "      <td>NaN</td>\n",
              "      <td>NaN</td>\n",
              "      <td>NaN</td>\n",
              "    </tr>\n",
              "    <tr>\n",
              "      <th>2928.0884</th>\n",
              "      <td>2.0</td>\n",
              "      <td>65030.0</td>\n",
              "      <td>8.837524</td>\n",
              "      <td>12.250001</td>\n",
              "      <td>23.825737</td>\n",
              "      <td>19.636332</td>\n",
              "      <td>2.934029</td>\n",
              "      <td>3.134141</td>\n",
              "      <td>3.356003</td>\n",
              "      <td>140.316040</td>\n",
              "      <td>...</td>\n",
              "      <td>2928.088379</td>\n",
              "      <td>444920.34375</td>\n",
              "      <td>6421580.5</td>\n",
              "      <td>-2867.239258</td>\n",
              "      <td>NaN</td>\n",
              "      <td>NaN</td>\n",
              "      <td>NaN</td>\n",
              "      <td>NaN</td>\n",
              "      <td>NaN</td>\n",
              "      <td>NaN</td>\n",
              "    </tr>\n",
              "    <tr>\n",
              "      <th>2928.2404</th>\n",
              "      <td>2.0</td>\n",
              "      <td>65030.0</td>\n",
              "      <td>8.838326</td>\n",
              "      <td>12.250001</td>\n",
              "      <td>24.269821</td>\n",
              "      <td>18.848274</td>\n",
              "      <td>3.507820</td>\n",
              "      <td>3.995121</td>\n",
              "      <td>4.203135</td>\n",
              "      <td>137.683212</td>\n",
              "      <td>...</td>\n",
              "      <td>2928.240478</td>\n",
              "      <td>444920.34375</td>\n",
              "      <td>6421580.5</td>\n",
              "      <td>-2867.391357</td>\n",
              "      <td>NaN</td>\n",
              "      <td>NaN</td>\n",
              "      <td>NaN</td>\n",
              "      <td>NaN</td>\n",
              "      <td>NaN</td>\n",
              "      <td>NaN</td>\n",
              "    </tr>\n",
              "    <tr>\n",
              "      <th>2928.3924</th>\n",
              "      <td>2.0</td>\n",
              "      <td>65030.0</td>\n",
              "      <td>8.846111</td>\n",
              "      <td>12.250001</td>\n",
              "      <td>24.782362</td>\n",
              "      <td>17.756601</td>\n",
              "      <td>4.167062</td>\n",
              "      <td>4.923522</td>\n",
              "      <td>5.212438</td>\n",
              "      <td>137.985367</td>\n",
              "      <td>...</td>\n",
              "      <td>2928.392334</td>\n",
              "      <td>444920.34375</td>\n",
              "      <td>6421580.5</td>\n",
              "      <td>-2867.543213</td>\n",
              "      <td>NaN</td>\n",
              "      <td>NaN</td>\n",
              "      <td>NaN</td>\n",
              "      <td>NaN</td>\n",
              "      <td>NaN</td>\n",
              "      <td>NaN</td>\n",
              "    </tr>\n",
              "  </tbody>\n",
              "</table>\n",
              "<p>5 rows × 26 columns</p>\n",
              "</div>\n",
              "      <button class=\"colab-df-convert\" onclick=\"convertToInteractive('df-ecf64048-9e09-4440-967c-2eeaf87063a7')\"\n",
              "              title=\"Convert this dataframe to an interactive table.\"\n",
              "              style=\"display:none;\">\n",
              "        \n",
              "  <svg xmlns=\"http://www.w3.org/2000/svg\" height=\"24px\"viewBox=\"0 0 24 24\"\n",
              "       width=\"24px\">\n",
              "    <path d=\"M0 0h24v24H0V0z\" fill=\"none\"/>\n",
              "    <path d=\"M18.56 5.44l.94 2.06.94-2.06 2.06-.94-2.06-.94-.94-2.06-.94 2.06-2.06.94zm-11 1L8.5 8.5l.94-2.06 2.06-.94-2.06-.94L8.5 2.5l-.94 2.06-2.06.94zm10 10l.94 2.06.94-2.06 2.06-.94-2.06-.94-.94-2.06-.94 2.06-2.06.94z\"/><path d=\"M17.41 7.96l-1.37-1.37c-.4-.4-.92-.59-1.43-.59-.52 0-1.04.2-1.43.59L10.3 9.45l-7.72 7.72c-.78.78-.78 2.05 0 2.83L4 21.41c.39.39.9.59 1.41.59.51 0 1.02-.2 1.41-.59l7.78-7.78 2.81-2.81c.8-.78.8-2.07 0-2.86zM5.41 20L4 18.59l7.72-7.72 1.47 1.35L5.41 20z\"/>\n",
              "  </svg>\n",
              "      </button>\n",
              "      \n",
              "  <style>\n",
              "    .colab-df-container {\n",
              "      display:flex;\n",
              "      flex-wrap:wrap;\n",
              "      gap: 12px;\n",
              "    }\n",
              "\n",
              "    .colab-df-convert {\n",
              "      background-color: #E8F0FE;\n",
              "      border: none;\n",
              "      border-radius: 50%;\n",
              "      cursor: pointer;\n",
              "      display: none;\n",
              "      fill: #1967D2;\n",
              "      height: 32px;\n",
              "      padding: 0 0 0 0;\n",
              "      width: 32px;\n",
              "    }\n",
              "\n",
              "    .colab-df-convert:hover {\n",
              "      background-color: #E2EBFA;\n",
              "      box-shadow: 0px 1px 2px rgba(60, 64, 67, 0.3), 0px 1px 3px 1px rgba(60, 64, 67, 0.15);\n",
              "      fill: #174EA6;\n",
              "    }\n",
              "\n",
              "    [theme=dark] .colab-df-convert {\n",
              "      background-color: #3B4455;\n",
              "      fill: #D2E3FC;\n",
              "    }\n",
              "\n",
              "    [theme=dark] .colab-df-convert:hover {\n",
              "      background-color: #434B5C;\n",
              "      box-shadow: 0px 1px 3px 1px rgba(0, 0, 0, 0.15);\n",
              "      filter: drop-shadow(0px 1px 2px rgba(0, 0, 0, 0.3));\n",
              "      fill: #FFFFFF;\n",
              "    }\n",
              "  </style>\n",
              "\n",
              "      <script>\n",
              "        const buttonEl =\n",
              "          document.querySelector('#df-ecf64048-9e09-4440-967c-2eeaf87063a7 button.colab-df-convert');\n",
              "        buttonEl.style.display =\n",
              "          google.colab.kernel.accessAllowed ? 'block' : 'none';\n",
              "\n",
              "        async function convertToInteractive(key) {\n",
              "          const element = document.querySelector('#df-ecf64048-9e09-4440-967c-2eeaf87063a7');\n",
              "          const dataTable =\n",
              "            await google.colab.kernel.invokeFunction('convertToInteractive',\n",
              "                                                     [key], {});\n",
              "          if (!dataTable) return;\n",
              "\n",
              "          const docLinkHtml = 'Like what you see? Visit the ' +\n",
              "            '<a target=\"_blank\" href=https://colab.research.google.com/notebooks/data_table.ipynb>data table notebook</a>'\n",
              "            + ' to learn more about interactive tables.';\n",
              "          element.innerHTML = '';\n",
              "          dataTable['output_type'] = 'display_data';\n",
              "          await google.colab.output.renderOutput(dataTable, element);\n",
              "          const docLink = document.createElement('div');\n",
              "          docLink.innerHTML = docLinkHtml;\n",
              "          element.appendChild(docLink);\n",
              "        }\n",
              "      </script>\n",
              "    </div>\n",
              "  </div>\n",
              "  "
            ]
          },
          "metadata": {},
          "execution_count": 749
        }
      ]
    },
    {
      "cell_type": "code",
      "source": [
        "data.columns"
      ],
      "metadata": {
        "colab": {
          "base_uri": "https://localhost:8080/"
        },
        "id": "zwfprJUVT_Z6",
        "outputId": "101ea3c1-5882-4c43-f70e-b52d88c81e0b"
      },
      "execution_count": 750,
      "outputs": [
        {
          "output_type": "execute_result",
          "data": {
            "text/plain": [
              "Index(['FORCE_2020_LITHOFACIES_CONFIDENCE', 'FORCE_2020_LITHOFACIES_LITHOLOGY',\n",
              "       'CALI', 'BS', 'ROPA', 'ROP', 'RDEP', 'RSHA', 'RMED', 'DTS', 'DTC',\n",
              "       'NPHI', 'PEF', 'GR', 'RHOB', 'DRHO', 'DEPTH_MD', 'X_LOC', 'Y_LOC',\n",
              "       'Z_LOC', 'MUDWEIGHT', 'RXO', 'SP', 'DCAL', 'RMIC', 'SGR'],\n",
              "      dtype='object')"
            ]
          },
          "metadata": {},
          "execution_count": 750
        }
      ]
    },
    {
      "cell_type": "code",
      "source": [
        "las.curves"
      ],
      "metadata": {
        "colab": {
          "base_uri": "https://localhost:8080/"
        },
        "id": "bYM8DkdtUDzH",
        "outputId": "5c68d0d3-8967-4233-86f8-d6bfb8ce2c9a"
      },
      "execution_count": 751,
      "outputs": [
        {
          "output_type": "execute_result",
          "data": {
            "text/plain": [
              "[CurveItem(mnemonic=\"DEPT\", unit=\"m\", value=\"\", descr=\"DEPTH\", original_mnemonic=\"DEPT\", data.shape=(19586,)),\n",
              " CurveItem(mnemonic=\"FORCE_2020_LITHOFACIES_CONFIDENCE\", unit=\"_\", value=\"\", descr=\"FORCE_2020_LITHOFACIES_CONFIDENCE\", original_mnemonic=\"FORCE_2020_LITHOFACIES_CONFIDENCE\", data.shape=(19586,)),\n",
              " CurveItem(mnemonic=\"FORCE_2020_LITHOFACIES_LITHOLOGY\", unit=\"_\", value=\"\", descr=\"FORCE_2020_LITHOFACIES_LITHOLOGY\", original_mnemonic=\"FORCE_2020_LITHOFACIES_LITHOLOGY\", data.shape=(19586,)),\n",
              " CurveItem(mnemonic=\"CALI\", unit=\"in\", value=\"\", descr=\"CALI\", original_mnemonic=\"CALI\", data.shape=(19586,)),\n",
              " CurveItem(mnemonic=\"BS\", unit=\"in\", value=\"\", descr=\"BS\", original_mnemonic=\"BS\", data.shape=(19586,)),\n",
              " CurveItem(mnemonic=\"ROPA\", unit=\"_\", value=\"\", descr=\"ROPA\", original_mnemonic=\"ROPA\", data.shape=(19586,)),\n",
              " CurveItem(mnemonic=\"ROP\", unit=\"m/h\", value=\"\", descr=\"ROP\", original_mnemonic=\"ROP\", data.shape=(19586,)),\n",
              " CurveItem(mnemonic=\"RDEP\", unit=\"ohm.m\", value=\"\", descr=\"RDEP\", original_mnemonic=\"RDEP\", data.shape=(19586,)),\n",
              " CurveItem(mnemonic=\"RSHA\", unit=\"ohm.m\", value=\"\", descr=\"RSHA\", original_mnemonic=\"RSHA\", data.shape=(19586,)),\n",
              " CurveItem(mnemonic=\"RMED\", unit=\"ohm.m\", value=\"\", descr=\"RMED\", original_mnemonic=\"RMED\", data.shape=(19586,)),\n",
              " CurveItem(mnemonic=\"DTS\", unit=\"us/ft\", value=\"\", descr=\"DTS\", original_mnemonic=\"DTS\", data.shape=(19586,)),\n",
              " CurveItem(mnemonic=\"DTC\", unit=\"us/ft\", value=\"\", descr=\"DTC\", original_mnemonic=\"DTC\", data.shape=(19586,)),\n",
              " CurveItem(mnemonic=\"NPHI\", unit=\"m3/m3\", value=\"\", descr=\"NPHI\", original_mnemonic=\"NPHI\", data.shape=(19586,)),\n",
              " CurveItem(mnemonic=\"PEF\", unit=\"b/e\", value=\"\", descr=\"PEF\", original_mnemonic=\"PEF\", data.shape=(19586,)),\n",
              " CurveItem(mnemonic=\"GR\", unit=\"gAPI\", value=\"\", descr=\"GR\", original_mnemonic=\"GR\", data.shape=(19586,)),\n",
              " CurveItem(mnemonic=\"RHOB\", unit=\"g/cm3\", value=\"\", descr=\"RHOB\", original_mnemonic=\"RHOB\", data.shape=(19586,)),\n",
              " CurveItem(mnemonic=\"DRHO\", unit=\"g/cm3\", value=\"\", descr=\"DRHO\", original_mnemonic=\"DRHO\", data.shape=(19586,)),\n",
              " CurveItem(mnemonic=\"DEPTH_MD\", unit=\"_\", value=\"\", descr=\"DEPTH_MD\", original_mnemonic=\"DEPTH_MD\", data.shape=(19586,)),\n",
              " CurveItem(mnemonic=\"X_LOC\", unit=\"_\", value=\"\", descr=\"x_loc\", original_mnemonic=\"X_LOC\", data.shape=(19586,)),\n",
              " CurveItem(mnemonic=\"Y_LOC\", unit=\"_\", value=\"\", descr=\"y_loc\", original_mnemonic=\"Y_LOC\", data.shape=(19586,)),\n",
              " CurveItem(mnemonic=\"Z_LOC\", unit=\"_\", value=\"\", descr=\"z_loc\", original_mnemonic=\"Z_LOC\", data.shape=(19586,))]"
            ]
          },
          "metadata": {},
          "execution_count": 751
        }
      ]
    },
    {
      "cell_type": "markdown",
      "source": [
        "#**Libraries Used**"
      ],
      "metadata": {
        "id": "_Wxdo5IXg8ni"
      }
    },
    {
      "cell_type": "code",
      "source": [
        "import pandas as pd\n",
        "import numpy as np\n",
        "import sklearn\n",
        "import matplotlib.pyplot as plt\n",
        "import seaborn\n",
        "\n",
        "import sklearn\n",
        "from sklearn.preprocessing import StandardScaler\n",
        "from sklearn.model_selection import train_test_split\n",
        "\n",
        "from sklearn.tree import DecisionTreeClassifier\n",
        "from sklearn.ensemble import RandomForestClassifier\n",
        "from sklearn.svm import SVC\n",
        "\n",
        "from sklearn.metrics import classification_report, confusion_matrix"
      ],
      "metadata": {
        "id": "-C36fjCBXU5g"
      },
      "execution_count": 938,
      "outputs": []
    },
    {
      "cell_type": "markdown",
      "source": [
        "#**Predicting Lithologies - 5 different Lithologies**"
      ],
      "metadata": {
        "id": "_4R7ywa8TLwx"
      }
    },
    {
      "cell_type": "markdown",
      "source": [
        "####30000: Sandstone\n",
        "####65030: Sandstone/Shale\n",
        "####65000: Shale\n",
        "####80000: Marl\n",
        "####70000: Limestone"
      ],
      "metadata": {
        "id": "CYyOM4pslmnk"
      }
    },
    {
      "cell_type": "markdown",
      "source": [
        "##Taking/Selecting Variables"
      ],
      "metadata": {
        "id": "yFskdiEflyjd"
      }
    },
    {
      "cell_type": "code",
      "source": [
        "data_2 = pd.read_csv(\"/content/log_data.csv\")"
      ],
      "metadata": {
        "id": "yxpksa5KTZ56"
      },
      "execution_count": 868,
      "outputs": []
    },
    {
      "cell_type": "code",
      "source": [
        "selected_columns = [\"GR\",\"RHOB\",\"NPHI\",\"RDEP\",\"SP\",\"FORCE_2020_LITHOFACIES_LITHOLOGY\"]"
      ],
      "metadata": {
        "id": "fC0L3jGBUHNn"
      },
      "execution_count": 869,
      "outputs": []
    },
    {
      "cell_type": "code",
      "source": [
        "data_ = data_2[[i for i in data_2.columns if i in selected_columns]]"
      ],
      "metadata": {
        "id": "Fh57KSAzUtbn"
      },
      "execution_count": 870,
      "outputs": []
    },
    {
      "cell_type": "markdown",
      "source": [
        "##About Data"
      ],
      "metadata": {
        "id": "HvGcW_7NmBwI"
      }
    },
    {
      "cell_type": "code",
      "source": [
        "data_.head()"
      ],
      "metadata": {
        "colab": {
          "base_uri": "https://localhost:8080/",
          "height": 206
        },
        "id": "A-tvQGMtU7DB",
        "outputId": "953face0-a54f-4ddc-e9a6-40c5eb4c6438"
      },
      "execution_count": 871,
      "outputs": [
        {
          "output_type": "execute_result",
          "data": {
            "text/plain": [
              "   FORCE_2020_LITHOFACIES_LITHOLOGY      RDEP      NPHI         GR      RHOB  \\\n",
              "0                           65030.0  2.842462  0.259059  93.965614  2.521463   \n",
              "1                           65030.0  2.728668  0.265082  84.551598  2.522877   \n",
              "2                           65030.0  2.934029  0.276038  72.994385  2.535487   \n",
              "3                           65030.0  3.507820  0.262020  57.243507  2.578729   \n",
              "4                           65030.0  4.167062  0.264434  48.266670  2.579201   \n",
              "\n",
              "   SP  \n",
              "0 NaN  \n",
              "1 NaN  \n",
              "2 NaN  \n",
              "3 NaN  \n",
              "4 NaN  "
            ],
            "text/html": [
              "\n",
              "  <div id=\"df-d87383c9-ff29-4d70-955f-d5a645b65463\">\n",
              "    <div class=\"colab-df-container\">\n",
              "      <div>\n",
              "<style scoped>\n",
              "    .dataframe tbody tr th:only-of-type {\n",
              "        vertical-align: middle;\n",
              "    }\n",
              "\n",
              "    .dataframe tbody tr th {\n",
              "        vertical-align: top;\n",
              "    }\n",
              "\n",
              "    .dataframe thead th {\n",
              "        text-align: right;\n",
              "    }\n",
              "</style>\n",
              "<table border=\"1\" class=\"dataframe\">\n",
              "  <thead>\n",
              "    <tr style=\"text-align: right;\">\n",
              "      <th></th>\n",
              "      <th>FORCE_2020_LITHOFACIES_LITHOLOGY</th>\n",
              "      <th>RDEP</th>\n",
              "      <th>NPHI</th>\n",
              "      <th>GR</th>\n",
              "      <th>RHOB</th>\n",
              "      <th>SP</th>\n",
              "    </tr>\n",
              "  </thead>\n",
              "  <tbody>\n",
              "    <tr>\n",
              "      <th>0</th>\n",
              "      <td>65030.0</td>\n",
              "      <td>2.842462</td>\n",
              "      <td>0.259059</td>\n",
              "      <td>93.965614</td>\n",
              "      <td>2.521463</td>\n",
              "      <td>NaN</td>\n",
              "    </tr>\n",
              "    <tr>\n",
              "      <th>1</th>\n",
              "      <td>65030.0</td>\n",
              "      <td>2.728668</td>\n",
              "      <td>0.265082</td>\n",
              "      <td>84.551598</td>\n",
              "      <td>2.522877</td>\n",
              "      <td>NaN</td>\n",
              "    </tr>\n",
              "    <tr>\n",
              "      <th>2</th>\n",
              "      <td>65030.0</td>\n",
              "      <td>2.934029</td>\n",
              "      <td>0.276038</td>\n",
              "      <td>72.994385</td>\n",
              "      <td>2.535487</td>\n",
              "      <td>NaN</td>\n",
              "    </tr>\n",
              "    <tr>\n",
              "      <th>3</th>\n",
              "      <td>65030.0</td>\n",
              "      <td>3.507820</td>\n",
              "      <td>0.262020</td>\n",
              "      <td>57.243507</td>\n",
              "      <td>2.578729</td>\n",
              "      <td>NaN</td>\n",
              "    </tr>\n",
              "    <tr>\n",
              "      <th>4</th>\n",
              "      <td>65030.0</td>\n",
              "      <td>4.167062</td>\n",
              "      <td>0.264434</td>\n",
              "      <td>48.266670</td>\n",
              "      <td>2.579201</td>\n",
              "      <td>NaN</td>\n",
              "    </tr>\n",
              "  </tbody>\n",
              "</table>\n",
              "</div>\n",
              "      <button class=\"colab-df-convert\" onclick=\"convertToInteractive('df-d87383c9-ff29-4d70-955f-d5a645b65463')\"\n",
              "              title=\"Convert this dataframe to an interactive table.\"\n",
              "              style=\"display:none;\">\n",
              "        \n",
              "  <svg xmlns=\"http://www.w3.org/2000/svg\" height=\"24px\"viewBox=\"0 0 24 24\"\n",
              "       width=\"24px\">\n",
              "    <path d=\"M0 0h24v24H0V0z\" fill=\"none\"/>\n",
              "    <path d=\"M18.56 5.44l.94 2.06.94-2.06 2.06-.94-2.06-.94-.94-2.06-.94 2.06-2.06.94zm-11 1L8.5 8.5l.94-2.06 2.06-.94-2.06-.94L8.5 2.5l-.94 2.06-2.06.94zm10 10l.94 2.06.94-2.06 2.06-.94-2.06-.94-.94-2.06-.94 2.06-2.06.94z\"/><path d=\"M17.41 7.96l-1.37-1.37c-.4-.4-.92-.59-1.43-.59-.52 0-1.04.2-1.43.59L10.3 9.45l-7.72 7.72c-.78.78-.78 2.05 0 2.83L4 21.41c.39.39.9.59 1.41.59.51 0 1.02-.2 1.41-.59l7.78-7.78 2.81-2.81c.8-.78.8-2.07 0-2.86zM5.41 20L4 18.59l7.72-7.72 1.47 1.35L5.41 20z\"/>\n",
              "  </svg>\n",
              "      </button>\n",
              "      \n",
              "  <style>\n",
              "    .colab-df-container {\n",
              "      display:flex;\n",
              "      flex-wrap:wrap;\n",
              "      gap: 12px;\n",
              "    }\n",
              "\n",
              "    .colab-df-convert {\n",
              "      background-color: #E8F0FE;\n",
              "      border: none;\n",
              "      border-radius: 50%;\n",
              "      cursor: pointer;\n",
              "      display: none;\n",
              "      fill: #1967D2;\n",
              "      height: 32px;\n",
              "      padding: 0 0 0 0;\n",
              "      width: 32px;\n",
              "    }\n",
              "\n",
              "    .colab-df-convert:hover {\n",
              "      background-color: #E2EBFA;\n",
              "      box-shadow: 0px 1px 2px rgba(60, 64, 67, 0.3), 0px 1px 3px 1px rgba(60, 64, 67, 0.15);\n",
              "      fill: #174EA6;\n",
              "    }\n",
              "\n",
              "    [theme=dark] .colab-df-convert {\n",
              "      background-color: #3B4455;\n",
              "      fill: #D2E3FC;\n",
              "    }\n",
              "\n",
              "    [theme=dark] .colab-df-convert:hover {\n",
              "      background-color: #434B5C;\n",
              "      box-shadow: 0px 1px 3px 1px rgba(0, 0, 0, 0.15);\n",
              "      filter: drop-shadow(0px 1px 2px rgba(0, 0, 0, 0.3));\n",
              "      fill: #FFFFFF;\n",
              "    }\n",
              "  </style>\n",
              "\n",
              "      <script>\n",
              "        const buttonEl =\n",
              "          document.querySelector('#df-d87383c9-ff29-4d70-955f-d5a645b65463 button.colab-df-convert');\n",
              "        buttonEl.style.display =\n",
              "          google.colab.kernel.accessAllowed ? 'block' : 'none';\n",
              "\n",
              "        async function convertToInteractive(key) {\n",
              "          const element = document.querySelector('#df-d87383c9-ff29-4d70-955f-d5a645b65463');\n",
              "          const dataTable =\n",
              "            await google.colab.kernel.invokeFunction('convertToInteractive',\n",
              "                                                     [key], {});\n",
              "          if (!dataTable) return;\n",
              "\n",
              "          const docLinkHtml = 'Like what you see? Visit the ' +\n",
              "            '<a target=\"_blank\" href=https://colab.research.google.com/notebooks/data_table.ipynb>data table notebook</a>'\n",
              "            + ' to learn more about interactive tables.';\n",
              "          element.innerHTML = '';\n",
              "          dataTable['output_type'] = 'display_data';\n",
              "          await google.colab.output.renderOutput(dataTable, element);\n",
              "          const docLink = document.createElement('div');\n",
              "          docLink.innerHTML = docLinkHtml;\n",
              "          element.appendChild(docLink);\n",
              "        }\n",
              "      </script>\n",
              "    </div>\n",
              "  </div>\n",
              "  "
            ]
          },
          "metadata": {},
          "execution_count": 871
        }
      ]
    },
    {
      "cell_type": "code",
      "source": [
        "data_.isna().sum()"
      ],
      "metadata": {
        "colab": {
          "base_uri": "https://localhost:8080/"
        },
        "id": "yVwZ7YbS-lo5",
        "outputId": "47b317d0-8808-454d-9227-455f856f09ef"
      },
      "execution_count": 872,
      "outputs": [
        {
          "output_type": "execute_result",
          "data": {
            "text/plain": [
              "FORCE_2020_LITHOFACIES_LITHOLOGY       0\n",
              "RDEP                                   0\n",
              "NPHI                                   0\n",
              "GR                                     0\n",
              "RHOB                                   0\n",
              "SP                                  4844\n",
              "dtype: int64"
            ]
          },
          "metadata": {},
          "execution_count": 872
        }
      ]
    },
    {
      "cell_type": "code",
      "source": [
        "data_.shape"
      ],
      "metadata": {
        "colab": {
          "base_uri": "https://localhost:8080/"
        },
        "id": "yq3lKQjTTxRR",
        "outputId": "1b5b7261-43a4-4dbd-8dc9-5d1ed645e5dd"
      },
      "execution_count": 873,
      "outputs": [
        {
          "output_type": "execute_result",
          "data": {
            "text/plain": [
              "(14080, 6)"
            ]
          },
          "metadata": {},
          "execution_count": 873
        }
      ]
    },
    {
      "cell_type": "code",
      "source": [
        "data_.dropna(inplace = True)"
      ],
      "metadata": {
        "colab": {
          "base_uri": "https://localhost:8080/"
        },
        "id": "_rLfkZQ9T4ya",
        "outputId": "c72e7e52-50f6-4c2e-d986-9b7f7a549984"
      },
      "execution_count": 874,
      "outputs": [
        {
          "output_type": "stream",
          "name": "stderr",
          "text": [
            "/usr/local/lib/python3.8/dist-packages/pandas/util/_decorators.py:311: SettingWithCopyWarning: \n",
            "A value is trying to be set on a copy of a slice from a DataFrame\n",
            "\n",
            "See the caveats in the documentation: https://pandas.pydata.org/pandas-docs/stable/user_guide/indexing.html#returning-a-view-versus-a-copy\n",
            "  return func(*args, **kwargs)\n"
          ]
        }
      ]
    },
    {
      "cell_type": "code",
      "source": [
        "x = data_.drop(\"FORCE_2020_LITHOFACIES_LITHOLOGY\", axis = 1)"
      ],
      "metadata": {
        "id": "vIiUfLr7VQ1n"
      },
      "execution_count": 875,
      "outputs": []
    },
    {
      "cell_type": "code",
      "source": [
        "x.info()"
      ],
      "metadata": {
        "colab": {
          "base_uri": "https://localhost:8080/"
        },
        "id": "BXqZtHmlXZ2b",
        "outputId": "bae45715-5fe7-44cc-ebd3-c34a40d24941"
      },
      "execution_count": 876,
      "outputs": [
        {
          "output_type": "stream",
          "name": "stdout",
          "text": [
            "<class 'pandas.core.frame.DataFrame'>\n",
            "Int64Index: 9236 entries, 1530 to 14079\n",
            "Data columns (total 5 columns):\n",
            " #   Column  Non-Null Count  Dtype  \n",
            "---  ------  --------------  -----  \n",
            " 0   RDEP    9236 non-null   float64\n",
            " 1   NPHI    9236 non-null   float64\n",
            " 2   GR      9236 non-null   float64\n",
            " 3   RHOB    9236 non-null   float64\n",
            " 4   SP      9236 non-null   float64\n",
            "dtypes: float64(5)\n",
            "memory usage: 432.9 KB\n"
          ]
        }
      ]
    },
    {
      "cell_type": "markdown",
      "source": [
        "##Preprocessing Data"
      ],
      "metadata": {
        "id": "5HfxiWOHmMqM"
      }
    },
    {
      "cell_type": "code",
      "source": [
        "columns = [\"GR\",\"RHOB\",\"NPHI\",\"RDEP\",\"SP\"]"
      ],
      "metadata": {
        "id": "31pqdHgqXskG"
      },
      "execution_count": 877,
      "outputs": []
    },
    {
      "cell_type": "code",
      "source": [
        "scaler = StandardScaler()\n",
        "\n",
        "x = scaler.fit_transform(x)\n",
        "x = pd.DataFrame(x, columns = columns)"
      ],
      "metadata": {
        "id": "H3O1KRFjXxsz"
      },
      "execution_count": 878,
      "outputs": []
    },
    {
      "cell_type": "code",
      "source": [
        "x.head()"
      ],
      "metadata": {
        "colab": {
          "base_uri": "https://localhost:8080/",
          "height": 206
        },
        "id": "nvt5LGH0X66c",
        "outputId": "2e1cd7fc-f29b-4139-ab1b-a3b31b40f121"
      },
      "execution_count": 879,
      "outputs": [
        {
          "output_type": "execute_result",
          "data": {
            "text/plain": [
              "         GR      RHOB      NPHI      RDEP        SP\n",
              "0 -0.195318 -0.923797 -1.092563  0.894476 -0.531498\n",
              "1 -0.195515 -0.904967 -1.147963  0.915014 -0.538261\n",
              "2 -0.195682 -0.937058 -1.173232  0.943079 -0.526345\n",
              "3 -0.195687 -0.940786 -1.163146  0.968619 -0.513591\n",
              "4 -0.195649 -0.941351 -1.150259  0.942673 -0.551901"
            ],
            "text/html": [
              "\n",
              "  <div id=\"df-7645514f-4233-4b6e-9b2a-a806df85af83\">\n",
              "    <div class=\"colab-df-container\">\n",
              "      <div>\n",
              "<style scoped>\n",
              "    .dataframe tbody tr th:only-of-type {\n",
              "        vertical-align: middle;\n",
              "    }\n",
              "\n",
              "    .dataframe tbody tr th {\n",
              "        vertical-align: top;\n",
              "    }\n",
              "\n",
              "    .dataframe thead th {\n",
              "        text-align: right;\n",
              "    }\n",
              "</style>\n",
              "<table border=\"1\" class=\"dataframe\">\n",
              "  <thead>\n",
              "    <tr style=\"text-align: right;\">\n",
              "      <th></th>\n",
              "      <th>GR</th>\n",
              "      <th>RHOB</th>\n",
              "      <th>NPHI</th>\n",
              "      <th>RDEP</th>\n",
              "      <th>SP</th>\n",
              "    </tr>\n",
              "  </thead>\n",
              "  <tbody>\n",
              "    <tr>\n",
              "      <th>0</th>\n",
              "      <td>-0.195318</td>\n",
              "      <td>-0.923797</td>\n",
              "      <td>-1.092563</td>\n",
              "      <td>0.894476</td>\n",
              "      <td>-0.531498</td>\n",
              "    </tr>\n",
              "    <tr>\n",
              "      <th>1</th>\n",
              "      <td>-0.195515</td>\n",
              "      <td>-0.904967</td>\n",
              "      <td>-1.147963</td>\n",
              "      <td>0.915014</td>\n",
              "      <td>-0.538261</td>\n",
              "    </tr>\n",
              "    <tr>\n",
              "      <th>2</th>\n",
              "      <td>-0.195682</td>\n",
              "      <td>-0.937058</td>\n",
              "      <td>-1.173232</td>\n",
              "      <td>0.943079</td>\n",
              "      <td>-0.526345</td>\n",
              "    </tr>\n",
              "    <tr>\n",
              "      <th>3</th>\n",
              "      <td>-0.195687</td>\n",
              "      <td>-0.940786</td>\n",
              "      <td>-1.163146</td>\n",
              "      <td>0.968619</td>\n",
              "      <td>-0.513591</td>\n",
              "    </tr>\n",
              "    <tr>\n",
              "      <th>4</th>\n",
              "      <td>-0.195649</td>\n",
              "      <td>-0.941351</td>\n",
              "      <td>-1.150259</td>\n",
              "      <td>0.942673</td>\n",
              "      <td>-0.551901</td>\n",
              "    </tr>\n",
              "  </tbody>\n",
              "</table>\n",
              "</div>\n",
              "      <button class=\"colab-df-convert\" onclick=\"convertToInteractive('df-7645514f-4233-4b6e-9b2a-a806df85af83')\"\n",
              "              title=\"Convert this dataframe to an interactive table.\"\n",
              "              style=\"display:none;\">\n",
              "        \n",
              "  <svg xmlns=\"http://www.w3.org/2000/svg\" height=\"24px\"viewBox=\"0 0 24 24\"\n",
              "       width=\"24px\">\n",
              "    <path d=\"M0 0h24v24H0V0z\" fill=\"none\"/>\n",
              "    <path d=\"M18.56 5.44l.94 2.06.94-2.06 2.06-.94-2.06-.94-.94-2.06-.94 2.06-2.06.94zm-11 1L8.5 8.5l.94-2.06 2.06-.94-2.06-.94L8.5 2.5l-.94 2.06-2.06.94zm10 10l.94 2.06.94-2.06 2.06-.94-2.06-.94-.94-2.06-.94 2.06-2.06.94z\"/><path d=\"M17.41 7.96l-1.37-1.37c-.4-.4-.92-.59-1.43-.59-.52 0-1.04.2-1.43.59L10.3 9.45l-7.72 7.72c-.78.78-.78 2.05 0 2.83L4 21.41c.39.39.9.59 1.41.59.51 0 1.02-.2 1.41-.59l7.78-7.78 2.81-2.81c.8-.78.8-2.07 0-2.86zM5.41 20L4 18.59l7.72-7.72 1.47 1.35L5.41 20z\"/>\n",
              "  </svg>\n",
              "      </button>\n",
              "      \n",
              "  <style>\n",
              "    .colab-df-container {\n",
              "      display:flex;\n",
              "      flex-wrap:wrap;\n",
              "      gap: 12px;\n",
              "    }\n",
              "\n",
              "    .colab-df-convert {\n",
              "      background-color: #E8F0FE;\n",
              "      border: none;\n",
              "      border-radius: 50%;\n",
              "      cursor: pointer;\n",
              "      display: none;\n",
              "      fill: #1967D2;\n",
              "      height: 32px;\n",
              "      padding: 0 0 0 0;\n",
              "      width: 32px;\n",
              "    }\n",
              "\n",
              "    .colab-df-convert:hover {\n",
              "      background-color: #E2EBFA;\n",
              "      box-shadow: 0px 1px 2px rgba(60, 64, 67, 0.3), 0px 1px 3px 1px rgba(60, 64, 67, 0.15);\n",
              "      fill: #174EA6;\n",
              "    }\n",
              "\n",
              "    [theme=dark] .colab-df-convert {\n",
              "      background-color: #3B4455;\n",
              "      fill: #D2E3FC;\n",
              "    }\n",
              "\n",
              "    [theme=dark] .colab-df-convert:hover {\n",
              "      background-color: #434B5C;\n",
              "      box-shadow: 0px 1px 3px 1px rgba(0, 0, 0, 0.15);\n",
              "      filter: drop-shadow(0px 1px 2px rgba(0, 0, 0, 0.3));\n",
              "      fill: #FFFFFF;\n",
              "    }\n",
              "  </style>\n",
              "\n",
              "      <script>\n",
              "        const buttonEl =\n",
              "          document.querySelector('#df-7645514f-4233-4b6e-9b2a-a806df85af83 button.colab-df-convert');\n",
              "        buttonEl.style.display =\n",
              "          google.colab.kernel.accessAllowed ? 'block' : 'none';\n",
              "\n",
              "        async function convertToInteractive(key) {\n",
              "          const element = document.querySelector('#df-7645514f-4233-4b6e-9b2a-a806df85af83');\n",
              "          const dataTable =\n",
              "            await google.colab.kernel.invokeFunction('convertToInteractive',\n",
              "                                                     [key], {});\n",
              "          if (!dataTable) return;\n",
              "\n",
              "          const docLinkHtml = 'Like what you see? Visit the ' +\n",
              "            '<a target=\"_blank\" href=https://colab.research.google.com/notebooks/data_table.ipynb>data table notebook</a>'\n",
              "            + ' to learn more about interactive tables.';\n",
              "          element.innerHTML = '';\n",
              "          dataTable['output_type'] = 'display_data';\n",
              "          await google.colab.output.renderOutput(dataTable, element);\n",
              "          const docLink = document.createElement('div');\n",
              "          docLink.innerHTML = docLinkHtml;\n",
              "          element.appendChild(docLink);\n",
              "        }\n",
              "      </script>\n",
              "    </div>\n",
              "  </div>\n",
              "  "
            ]
          },
          "metadata": {},
          "execution_count": 879
        }
      ]
    },
    {
      "cell_type": "code",
      "source": [
        "data_.shape"
      ],
      "metadata": {
        "colab": {
          "base_uri": "https://localhost:8080/"
        },
        "id": "-CwME7raYS_w",
        "outputId": "5c6a0a29-b533-4654-f008-ddc849a02394"
      },
      "execution_count": 880,
      "outputs": [
        {
          "output_type": "execute_result",
          "data": {
            "text/plain": [
              "(9236, 6)"
            ]
          },
          "metadata": {},
          "execution_count": 880
        }
      ]
    },
    {
      "cell_type": "code",
      "source": [
        "x.shape"
      ],
      "metadata": {
        "colab": {
          "base_uri": "https://localhost:8080/"
        },
        "id": "QcCth1C1VNj3",
        "outputId": "62608351-de61-42a9-9640-18ca865e3950"
      },
      "execution_count": 881,
      "outputs": [
        {
          "output_type": "execute_result",
          "data": {
            "text/plain": [
              "(9236, 5)"
            ]
          },
          "metadata": {},
          "execution_count": 881
        }
      ]
    },
    {
      "cell_type": "code",
      "source": [
        "y = data_[\"FORCE_2020_LITHOFACIES_LITHOLOGY\"]"
      ],
      "metadata": {
        "id": "wIkLMLpyWgmb"
      },
      "execution_count": 882,
      "outputs": []
    },
    {
      "cell_type": "code",
      "source": [
        "y.head()"
      ],
      "metadata": {
        "colab": {
          "base_uri": "https://localhost:8080/"
        },
        "id": "Xebovkl6YaGZ",
        "outputId": "984a45a1-a626-4b6f-89a2-32a8e0f24747"
      },
      "execution_count": 883,
      "outputs": [
        {
          "output_type": "execute_result",
          "data": {
            "text/plain": [
              "1530    70000.0\n",
              "1531    70000.0\n",
              "1532    70000.0\n",
              "1533    70000.0\n",
              "1534    70000.0\n",
              "Name: FORCE_2020_LITHOFACIES_LITHOLOGY, dtype: float64"
            ]
          },
          "metadata": {},
          "execution_count": 883
        }
      ]
    },
    {
      "cell_type": "code",
      "source": [
        "y = y.reset_index()"
      ],
      "metadata": {
        "id": "aix8EdH0Ym84"
      },
      "execution_count": 884,
      "outputs": []
    },
    {
      "cell_type": "code",
      "source": [
        "y.drop(\"index\", axis = 1, inplace = True)"
      ],
      "metadata": {
        "id": "-tJlLj2KY6bS"
      },
      "execution_count": 885,
      "outputs": []
    },
    {
      "cell_type": "code",
      "source": [
        "y.shape"
      ],
      "metadata": {
        "colab": {
          "base_uri": "https://localhost:8080/"
        },
        "id": "FbiJYTAgZH5T",
        "outputId": "745150fd-ef18-49c9-d8ff-c5326ac074e9"
      },
      "execution_count": 886,
      "outputs": [
        {
          "output_type": "execute_result",
          "data": {
            "text/plain": [
              "(9236, 1)"
            ]
          },
          "metadata": {},
          "execution_count": 886
        }
      ]
    },
    {
      "cell_type": "code",
      "source": [
        "x[\"Lithology\"] = y"
      ],
      "metadata": {
        "id": "t4JJTi_IYd-1"
      },
      "execution_count": 887,
      "outputs": []
    },
    {
      "cell_type": "code",
      "source": [
        "x.head()"
      ],
      "metadata": {
        "colab": {
          "base_uri": "https://localhost:8080/",
          "height": 206
        },
        "id": "awNNamrgZSTR",
        "outputId": "82c72b66-2100-405e-98e0-670876884fc4"
      },
      "execution_count": 888,
      "outputs": [
        {
          "output_type": "execute_result",
          "data": {
            "text/plain": [
              "         GR      RHOB      NPHI      RDEP        SP  Lithology\n",
              "0 -0.195318 -0.923797 -1.092563  0.894476 -0.531498    70000.0\n",
              "1 -0.195515 -0.904967 -1.147963  0.915014 -0.538261    70000.0\n",
              "2 -0.195682 -0.937058 -1.173232  0.943079 -0.526345    70000.0\n",
              "3 -0.195687 -0.940786 -1.163146  0.968619 -0.513591    70000.0\n",
              "4 -0.195649 -0.941351 -1.150259  0.942673 -0.551901    70000.0"
            ],
            "text/html": [
              "\n",
              "  <div id=\"df-914a6f2a-91c5-46cd-9ae6-3a079d23f9d8\">\n",
              "    <div class=\"colab-df-container\">\n",
              "      <div>\n",
              "<style scoped>\n",
              "    .dataframe tbody tr th:only-of-type {\n",
              "        vertical-align: middle;\n",
              "    }\n",
              "\n",
              "    .dataframe tbody tr th {\n",
              "        vertical-align: top;\n",
              "    }\n",
              "\n",
              "    .dataframe thead th {\n",
              "        text-align: right;\n",
              "    }\n",
              "</style>\n",
              "<table border=\"1\" class=\"dataframe\">\n",
              "  <thead>\n",
              "    <tr style=\"text-align: right;\">\n",
              "      <th></th>\n",
              "      <th>GR</th>\n",
              "      <th>RHOB</th>\n",
              "      <th>NPHI</th>\n",
              "      <th>RDEP</th>\n",
              "      <th>SP</th>\n",
              "      <th>Lithology</th>\n",
              "    </tr>\n",
              "  </thead>\n",
              "  <tbody>\n",
              "    <tr>\n",
              "      <th>0</th>\n",
              "      <td>-0.195318</td>\n",
              "      <td>-0.923797</td>\n",
              "      <td>-1.092563</td>\n",
              "      <td>0.894476</td>\n",
              "      <td>-0.531498</td>\n",
              "      <td>70000.0</td>\n",
              "    </tr>\n",
              "    <tr>\n",
              "      <th>1</th>\n",
              "      <td>-0.195515</td>\n",
              "      <td>-0.904967</td>\n",
              "      <td>-1.147963</td>\n",
              "      <td>0.915014</td>\n",
              "      <td>-0.538261</td>\n",
              "      <td>70000.0</td>\n",
              "    </tr>\n",
              "    <tr>\n",
              "      <th>2</th>\n",
              "      <td>-0.195682</td>\n",
              "      <td>-0.937058</td>\n",
              "      <td>-1.173232</td>\n",
              "      <td>0.943079</td>\n",
              "      <td>-0.526345</td>\n",
              "      <td>70000.0</td>\n",
              "    </tr>\n",
              "    <tr>\n",
              "      <th>3</th>\n",
              "      <td>-0.195687</td>\n",
              "      <td>-0.940786</td>\n",
              "      <td>-1.163146</td>\n",
              "      <td>0.968619</td>\n",
              "      <td>-0.513591</td>\n",
              "      <td>70000.0</td>\n",
              "    </tr>\n",
              "    <tr>\n",
              "      <th>4</th>\n",
              "      <td>-0.195649</td>\n",
              "      <td>-0.941351</td>\n",
              "      <td>-1.150259</td>\n",
              "      <td>0.942673</td>\n",
              "      <td>-0.551901</td>\n",
              "      <td>70000.0</td>\n",
              "    </tr>\n",
              "  </tbody>\n",
              "</table>\n",
              "</div>\n",
              "      <button class=\"colab-df-convert\" onclick=\"convertToInteractive('df-914a6f2a-91c5-46cd-9ae6-3a079d23f9d8')\"\n",
              "              title=\"Convert this dataframe to an interactive table.\"\n",
              "              style=\"display:none;\">\n",
              "        \n",
              "  <svg xmlns=\"http://www.w3.org/2000/svg\" height=\"24px\"viewBox=\"0 0 24 24\"\n",
              "       width=\"24px\">\n",
              "    <path d=\"M0 0h24v24H0V0z\" fill=\"none\"/>\n",
              "    <path d=\"M18.56 5.44l.94 2.06.94-2.06 2.06-.94-2.06-.94-.94-2.06-.94 2.06-2.06.94zm-11 1L8.5 8.5l.94-2.06 2.06-.94-2.06-.94L8.5 2.5l-.94 2.06-2.06.94zm10 10l.94 2.06.94-2.06 2.06-.94-2.06-.94-.94-2.06-.94 2.06-2.06.94z\"/><path d=\"M17.41 7.96l-1.37-1.37c-.4-.4-.92-.59-1.43-.59-.52 0-1.04.2-1.43.59L10.3 9.45l-7.72 7.72c-.78.78-.78 2.05 0 2.83L4 21.41c.39.39.9.59 1.41.59.51 0 1.02-.2 1.41-.59l7.78-7.78 2.81-2.81c.8-.78.8-2.07 0-2.86zM5.41 20L4 18.59l7.72-7.72 1.47 1.35L5.41 20z\"/>\n",
              "  </svg>\n",
              "      </button>\n",
              "      \n",
              "  <style>\n",
              "    .colab-df-container {\n",
              "      display:flex;\n",
              "      flex-wrap:wrap;\n",
              "      gap: 12px;\n",
              "    }\n",
              "\n",
              "    .colab-df-convert {\n",
              "      background-color: #E8F0FE;\n",
              "      border: none;\n",
              "      border-radius: 50%;\n",
              "      cursor: pointer;\n",
              "      display: none;\n",
              "      fill: #1967D2;\n",
              "      height: 32px;\n",
              "      padding: 0 0 0 0;\n",
              "      width: 32px;\n",
              "    }\n",
              "\n",
              "    .colab-df-convert:hover {\n",
              "      background-color: #E2EBFA;\n",
              "      box-shadow: 0px 1px 2px rgba(60, 64, 67, 0.3), 0px 1px 3px 1px rgba(60, 64, 67, 0.15);\n",
              "      fill: #174EA6;\n",
              "    }\n",
              "\n",
              "    [theme=dark] .colab-df-convert {\n",
              "      background-color: #3B4455;\n",
              "      fill: #D2E3FC;\n",
              "    }\n",
              "\n",
              "    [theme=dark] .colab-df-convert:hover {\n",
              "      background-color: #434B5C;\n",
              "      box-shadow: 0px 1px 3px 1px rgba(0, 0, 0, 0.15);\n",
              "      filter: drop-shadow(0px 1px 2px rgba(0, 0, 0, 0.3));\n",
              "      fill: #FFFFFF;\n",
              "    }\n",
              "  </style>\n",
              "\n",
              "      <script>\n",
              "        const buttonEl =\n",
              "          document.querySelector('#df-914a6f2a-91c5-46cd-9ae6-3a079d23f9d8 button.colab-df-convert');\n",
              "        buttonEl.style.display =\n",
              "          google.colab.kernel.accessAllowed ? 'block' : 'none';\n",
              "\n",
              "        async function convertToInteractive(key) {\n",
              "          const element = document.querySelector('#df-914a6f2a-91c5-46cd-9ae6-3a079d23f9d8');\n",
              "          const dataTable =\n",
              "            await google.colab.kernel.invokeFunction('convertToInteractive',\n",
              "                                                     [key], {});\n",
              "          if (!dataTable) return;\n",
              "\n",
              "          const docLinkHtml = 'Like what you see? Visit the ' +\n",
              "            '<a target=\"_blank\" href=https://colab.research.google.com/notebooks/data_table.ipynb>data table notebook</a>'\n",
              "            + ' to learn more about interactive tables.';\n",
              "          element.innerHTML = '';\n",
              "          dataTable['output_type'] = 'display_data';\n",
              "          await google.colab.output.renderOutput(dataTable, element);\n",
              "          const docLink = document.createElement('div');\n",
              "          docLink.innerHTML = docLinkHtml;\n",
              "          element.appendChild(docLink);\n",
              "        }\n",
              "      </script>\n",
              "    </div>\n",
              "  </div>\n",
              "  "
            ]
          },
          "metadata": {},
          "execution_count": 888
        }
      ]
    },
    {
      "cell_type": "markdown",
      "source": [
        "##Visualizations"
      ],
      "metadata": {
        "id": "JGh4IveEmSXs"
      }
    },
    {
      "cell_type": "code",
      "source": [
        "seaborn.pairplot(x, hue = \"Lithology\")\n",
        "plt.show()"
      ],
      "metadata": {
        "colab": {
          "base_uri": "https://localhost:8080/",
          "height": 903
        },
        "id": "_4JkyeVqhxvE",
        "outputId": "e51d175a-7115-4bcf-b3fe-dd0069d71ec9"
      },
      "execution_count": 889,
      "outputs": [
        {
          "output_type": "display_data",
          "data": {
            "text/plain": [
              "<Figure size 967.375x900 with 30 Axes>"
            ],
            "image/png": "[encoded data removed]"
          },
          "metadata": {
            "needs_background": "light"
          }
        }
      ]
    },
    {
      "cell_type": "code",
      "source": [
        "seaborn.heatmap(x.corr(), annot = True)"
      ],
      "metadata": {
        "colab": {
          "base_uri": "https://localhost:8080/",
          "height": 286
        },
        "id": "5luW0jOdi0-k",
        "outputId": "c779660a-32ff-4f16-ce47-a9dbcdf8d8bd"
      },
      "execution_count": 890,
      "outputs": [
        {
          "output_type": "execute_result",
          "data": {
            "text/plain": [
              "<matplotlib.axes._subplots.AxesSubplot at 0x7f43fbbe6fa0>"
            ]
          },
          "metadata": {},
          "execution_count": 890
        },
        {
          "output_type": "display_data",
          "data": {
            "text/plain": [
              "<Figure size 432x288 with 2 Axes>"
            ],
            "image/png": "[encoded data removed]"
          },
          "metadata": {
            "needs_background": "light"
          }
        }
      ]
    },
    {
      "cell_type": "code",
      "source": [
        "x.shape"
      ],
      "metadata": {
        "colab": {
          "base_uri": "https://localhost:8080/"
        },
        "id": "G8OsqjYCZjqC",
        "outputId": "bf84401d-0f3a-447a-f489-0e4e259886a3"
      },
      "execution_count": 891,
      "outputs": [
        {
          "output_type": "execute_result",
          "data": {
            "text/plain": [
              "(9236, 6)"
            ]
          },
          "metadata": {},
          "execution_count": 891
        }
      ]
    },
    {
      "cell_type": "code",
      "source": [
        "x.isna().sum()"
      ],
      "metadata": {
        "colab": {
          "base_uri": "https://localhost:8080/"
        },
        "id": "finIvuUUatfB",
        "outputId": "e528bc8e-dec7-4cc9-b5fb-8f42700f1093"
      },
      "execution_count": 892,
      "outputs": [
        {
          "output_type": "execute_result",
          "data": {
            "text/plain": [
              "GR           0\n",
              "RHOB         0\n",
              "NPHI         0\n",
              "RDEP         0\n",
              "SP           0\n",
              "Lithology    0\n",
              "dtype: int64"
            ]
          },
          "metadata": {},
          "execution_count": 892
        }
      ]
    },
    {
      "cell_type": "code",
      "source": [
        "x = x.dropna()"
      ],
      "metadata": {
        "id": "x4Afc7YwawvB"
      },
      "execution_count": 893,
      "outputs": []
    },
    {
      "cell_type": "code",
      "source": [
        "y.shape"
      ],
      "metadata": {
        "colab": {
          "base_uri": "https://localhost:8080/"
        },
        "id": "wJ9eKcXIYP3x",
        "outputId": "6cf2feb9-ca60-4b50-9508-ce126f94717e"
      },
      "execution_count": 894,
      "outputs": [
        {
          "output_type": "execute_result",
          "data": {
            "text/plain": [
              "(9236, 1)"
            ]
          },
          "metadata": {},
          "execution_count": 894
        }
      ]
    },
    {
      "cell_type": "code",
      "source": [
        "y.value_counts()"
      ],
      "metadata": {
        "id": "8J9filrS88eB",
        "colab": {
          "base_uri": "https://localhost:8080/"
        },
        "outputId": "ce0bd25a-a337-4c8c-b45c-9d97e19107ce"
      },
      "execution_count": 895,
      "outputs": [
        {
          "output_type": "execute_result",
          "data": {
            "text/plain": [
              "FORCE_2020_LITHOFACIES_LITHOLOGY\n",
              "65000.0                             3179\n",
              "30000.0                             2815\n",
              "65030.0                             1610\n",
              "70000.0                             1147\n",
              "80000.0                              430\n",
              "74000.0                               43\n",
              "90000.0                               12\n",
              "dtype: int64"
            ]
          },
          "metadata": {},
          "execution_count": 895
        }
      ]
    },
    {
      "cell_type": "code",
      "source": [
        "x = x[x[\"Lithology\"] != 80000.0]\n",
        "x = x[x[\"Lithology\"] != 74000.0]\n",
        "x = x[x[\"Lithology\"] != 90000.0]"
      ],
      "metadata": {
        "id": "vew0y9P2WLzJ"
      },
      "execution_count": 896,
      "outputs": []
    },
    {
      "cell_type": "code",
      "source": [
        "x.isna().sum()"
      ],
      "metadata": {
        "colab": {
          "base_uri": "https://localhost:8080/"
        },
        "id": "VNqsyQyXbCsp",
        "outputId": "72a7902d-b51d-4076-d29b-95c5d92ce0f4"
      },
      "execution_count": 897,
      "outputs": [
        {
          "output_type": "execute_result",
          "data": {
            "text/plain": [
              "GR           0\n",
              "RHOB         0\n",
              "NPHI         0\n",
              "RDEP         0\n",
              "SP           0\n",
              "Lithology    0\n",
              "dtype: int64"
            ]
          },
          "metadata": {},
          "execution_count": 897
        }
      ]
    },
    {
      "cell_type": "code",
      "source": [
        "x.shape"
      ],
      "metadata": {
        "colab": {
          "base_uri": "https://localhost:8080/"
        },
        "id": "e5WxvTsQXuK3",
        "outputId": "cc3cad88-4acf-4898-e425-0310a80449bf"
      },
      "execution_count": 898,
      "outputs": [
        {
          "output_type": "execute_result",
          "data": {
            "text/plain": [
              "(8751, 6)"
            ]
          },
          "metadata": {},
          "execution_count": 898
        }
      ]
    },
    {
      "cell_type": "code",
      "source": [
        "y = x[\"Lithology\"]"
      ],
      "metadata": {
        "id": "mjHg38ujUdtq"
      },
      "execution_count": 899,
      "outputs": []
    },
    {
      "cell_type": "code",
      "source": [
        "y.isna().sum()"
      ],
      "metadata": {
        "colab": {
          "base_uri": "https://localhost:8080/"
        },
        "id": "svuV-AlTbH9Z",
        "outputId": "63de63bb-119f-42e7-b41b-6c02217a39da"
      },
      "execution_count": 900,
      "outputs": [
        {
          "output_type": "execute_result",
          "data": {
            "text/plain": [
              "0"
            ]
          },
          "metadata": {},
          "execution_count": 900
        }
      ]
    },
    {
      "cell_type": "code",
      "source": [
        "x = x.drop(\"Lithology\", axis = 1)"
      ],
      "metadata": {
        "id": "J9ZQqD7qaSvR"
      },
      "execution_count": 901,
      "outputs": []
    },
    {
      "cell_type": "code",
      "source": [
        "y.value_counts()"
      ],
      "metadata": {
        "colab": {
          "base_uri": "https://localhost:8080/"
        },
        "id": "Wk4eto44XbQW",
        "outputId": "d37e5999-6d51-4fa4-b0cf-ba4f283cce83"
      },
      "execution_count": 902,
      "outputs": [
        {
          "output_type": "execute_result",
          "data": {
            "text/plain": [
              "65000.0    3179\n",
              "30000.0    2815\n",
              "65030.0    1610\n",
              "70000.0    1147\n",
              "Name: Lithology, dtype: int64"
            ]
          },
          "metadata": {},
          "execution_count": 902
        }
      ]
    },
    {
      "cell_type": "code",
      "source": [
        "y = y.map({\n",
        "    30000.0 : 1,\n",
        "    65030.0 : 2,\n",
        "    65000.0 : 3,\n",
        "    70000.0 : 4\n",
        "})"
      ],
      "metadata": {
        "id": "KDfI0hGRZ_OJ"
      },
      "execution_count": 903,
      "outputs": []
    },
    {
      "cell_type": "markdown",
      "source": [
        "##Splitting Data"
      ],
      "metadata": {
        "id": "UazQkEfaiNhV"
      }
    },
    {
      "cell_type": "code",
      "source": [
        "x_train, x_test, y_train, y_test = train_test_split(x,y, test_size = 0.2, random_state = 11)"
      ],
      "metadata": {
        "id": "sL2p-kt6WnlP"
      },
      "execution_count": 904,
      "outputs": []
    },
    {
      "cell_type": "code",
      "source": [
        "x_train.shape, x_test.shape, y_train.shape, y_test.shape"
      ],
      "metadata": {
        "colab": {
          "base_uri": "https://localhost:8080/"
        },
        "id": "AdSxWGjzXCoq",
        "outputId": "03587612-fa31-4068-c5be-95b5160dd52f"
      },
      "execution_count": 905,
      "outputs": [
        {
          "output_type": "execute_result",
          "data": {
            "text/plain": [
              "((7000, 5), (1751, 5), (7000,), (1751,))"
            ]
          },
          "metadata": {},
          "execution_count": 905
        }
      ]
    },
    {
      "cell_type": "markdown",
      "source": [
        "##Modelling Data"
      ],
      "metadata": {
        "id": "TqOGr5PziSDN"
      }
    },
    {
      "cell_type": "code",
      "source": [
        "svc = SVC()\n",
        "svc.fit(x_train,y_train)\n",
        "pred_svc = svc.predict(x_test)\n",
        "\n",
        "print(classification_report(y_test, pred_svc))"
      ],
      "metadata": {
        "id": "y7kWjyzRXN68",
        "colab": {
          "base_uri": "https://localhost:8080/"
        },
        "outputId": "0a1b7ec2-e67b-45f6-fb78-7b78ff1eb120"
      },
      "execution_count": 906,
      "outputs": [
        {
          "output_type": "stream",
          "name": "stdout",
          "text": [
            "              precision    recall  f1-score   support\n",
            "\n",
            "           1       0.90      0.79      0.84       529\n",
            "           2       0.64      0.85      0.73       323\n",
            "           3       0.85      0.82      0.84       673\n",
            "           4       0.93      0.87      0.90       226\n",
            "\n",
            "    accuracy                           0.82      1751\n",
            "   macro avg       0.83      0.83      0.83      1751\n",
            "weighted avg       0.84      0.82      0.83      1751\n",
            "\n"
          ]
        }
      ]
    },
    {
      "cell_type": "code",
      "source": [
        "dtc = DecisionTreeClassifier()\n",
        "\n",
        "dtc.fit(x_train,y_train)\n",
        "pred_dtc = dtc.predict(x_test)\n",
        "\n",
        "print(classification_report(y_test, pred_dtc))"
      ],
      "metadata": {
        "colab": {
          "base_uri": "https://localhost:8080/"
        },
        "id": "M5wRmeqhihPa",
        "outputId": "b921d84d-f96e-4610-b82e-bb5d907bdf82"
      },
      "execution_count": 908,
      "outputs": [
        {
          "output_type": "stream",
          "name": "stdout",
          "text": [
            "              precision    recall  f1-score   support\n",
            "\n",
            "           1       0.90      0.90      0.90       529\n",
            "           2       0.83      0.82      0.83       323\n",
            "           3       0.92      0.93      0.93       673\n",
            "           4       0.94      0.92      0.93       226\n",
            "\n",
            "    accuracy                           0.90      1751\n",
            "   macro avg       0.90      0.89      0.90      1751\n",
            "weighted avg       0.90      0.90      0.90      1751\n",
            "\n"
          ]
        }
      ]
    },
    {
      "cell_type": "code",
      "source": [
        "rfc = RandomForestClassifier()\n",
        "\n",
        "rfc.fit(x_train,y_train)\n",
        "pred_rfc = rfc.predict(x_test)\n",
        "\n",
        "print(classification_report(y_test, pred_rfc))"
      ],
      "metadata": {
        "colab": {
          "base_uri": "https://localhost:8080/"
        },
        "id": "Cy4xND8af33X",
        "outputId": "d4a60b53-4c2f-49b6-a356-4b6ba405ea70"
      },
      "execution_count": 909,
      "outputs": [
        {
          "output_type": "stream",
          "name": "stdout",
          "text": [
            "              precision    recall  f1-score   support\n",
            "\n",
            "           1       0.93      0.94      0.94       529\n",
            "           2       0.89      0.89      0.89       323\n",
            "           3       0.95      0.96      0.96       673\n",
            "           4       0.95      0.90      0.93       226\n",
            "\n",
            "    accuracy                           0.94      1751\n",
            "   macro avg       0.93      0.93      0.93      1751\n",
            "weighted avg       0.94      0.94      0.94      1751\n",
            "\n"
          ]
        }
      ]
    },
    {
      "cell_type": "markdown",
      "source": [
        "#**Predicting Shale/Sandstone**"
      ],
      "metadata": {
        "id": "53iyCYLumoJR"
      }
    },
    {
      "cell_type": "markdown",
      "source": [
        "30000: Sandstone\n",
        "\n",
        "65030: Sandstone/Shale\n",
        "\n",
        "65000: Shale"
      ],
      "metadata": {
        "id": "LAHU-NEY3UEc"
      }
    },
    {
      "cell_type": "markdown",
      "source": [
        "##Data"
      ],
      "metadata": {
        "id": "Cn25gCWpmzSE"
      }
    },
    {
      "cell_type": "code",
      "source": [
        "data = pd.read_csv(\"/content/log_data.csv\")"
      ],
      "metadata": {
        "id": "Q2r-DXjykwJv"
      },
      "execution_count": 910,
      "outputs": []
    },
    {
      "cell_type": "code",
      "source": [
        "data.head()"
      ],
      "metadata": {
        "id": "lAQsi77iFyIL",
        "colab": {
          "base_uri": "https://localhost:8080/",
          "height": 317
        },
        "outputId": "51c4d623-9404-4bee-80e2-40cfd171cbc6"
      },
      "execution_count": 911,
      "outputs": [
        {
          "output_type": "execute_result",
          "data": {
            "text/plain": [
              "   Unnamed: 0       DEPT  FORCE_2020_LITHOFACIES_CONFIDENCE  \\\n",
              "0           0  2927.7844                                2.0   \n",
              "1           1  2927.9364                                2.0   \n",
              "2           2  2928.0884                                2.0   \n",
              "3           3  2928.2404                                2.0   \n",
              "4           4  2928.3924                                2.0   \n",
              "\n",
              "   FORCE_2020_LITHOFACIES_LITHOLOGY      CALI         BS       ROPA  \\\n",
              "0                           65030.0  8.869191  12.250001  25.167536   \n",
              "1                           65030.0  8.864833  12.250001  23.963020   \n",
              "2                           65030.0  8.837524  12.250001  23.825737   \n",
              "3                           65030.0  8.838326  12.250001  24.269821   \n",
              "4                           65030.0  8.846111  12.250001  24.782362   \n",
              "\n",
              "         ROP      RDEP      RSHA  ...     DEPTH_MD         X_LOC      Y_LOC  \\\n",
              "0  22.842165  2.842462  2.534627  ...  2927.784424  444920.34375  6421580.5   \n",
              "1  21.530174  2.728668  2.681297  ...  2927.936279  444920.34375  6421580.5   \n",
              "2  19.636332  2.934029  3.134141  ...  2928.088379  444920.34375  6421580.5   \n",
              "3  18.848274  3.507820  3.995121  ...  2928.240478  444920.34375  6421580.5   \n",
              "4  17.756601  4.167062  4.923522  ...  2928.392334  444920.34375  6421580.5   \n",
              "\n",
              "         Z_LOC  MUDWEIGHT  RXO  SP  DCAL  RMIC  SGR  \n",
              "0 -2866.935303        NaN  NaN NaN   NaN   NaN  NaN  \n",
              "1 -2867.087158        NaN  NaN NaN   NaN   NaN  NaN  \n",
              "2 -2867.239258        NaN  NaN NaN   NaN   NaN  NaN  \n",
              "3 -2867.391357        NaN  NaN NaN   NaN   NaN  NaN  \n",
              "4 -2867.543213        NaN  NaN NaN   NaN   NaN  NaN  \n",
              "\n",
              "[5 rows x 28 columns]"
            ],
            "text/html": [
              "\n",
              "  <div id=\"df-1882bae1-8d6f-49c8-8d49-097b0c9d4870\">\n",
              "    <div class=\"colab-df-container\">\n",
              "      <div>\n",
              "<style scoped>\n",
              "    .dataframe tbody tr th:only-of-type {\n",
              "        vertical-align: middle;\n",
              "    }\n",
              "\n",
              "    .dataframe tbody tr th {\n",
              "        vertical-align: top;\n",
              "    }\n",
              "\n",
              "    .dataframe thead th {\n",
              "        text-align: right;\n",
              "    }\n",
              "</style>\n",
              "<table border=\"1\" class=\"dataframe\">\n",
              "  <thead>\n",
              "    <tr style=\"text-align: right;\">\n",
              "      <th></th>\n",
              "      <th>Unnamed: 0</th>\n",
              "      <th>DEPT</th>\n",
              "      <th>FORCE_2020_LITHOFACIES_CONFIDENCE</th>\n",
              "      <th>FORCE_2020_LITHOFACIES_LITHOLOGY</th>\n",
              "      <th>CALI</th>\n",
              "      <th>BS</th>\n",
              "      <th>ROPA</th>\n",
              "      <th>ROP</th>\n",
              "      <th>RDEP</th>\n",
              "      <th>RSHA</th>\n",
              "      <th>...</th>\n",
              "      <th>DEPTH_MD</th>\n",
              "      <th>X_LOC</th>\n",
              "      <th>Y_LOC</th>\n",
              "      <th>Z_LOC</th>\n",
              "      <th>MUDWEIGHT</th>\n",
              "      <th>RXO</th>\n",
              "      <th>SP</th>\n",
              "      <th>DCAL</th>\n",
              "      <th>RMIC</th>\n",
              "      <th>SGR</th>\n",
              "    </tr>\n",
              "  </thead>\n",
              "  <tbody>\n",
              "    <tr>\n",
              "      <th>0</th>\n",
              "      <td>0</td>\n",
              "      <td>2927.7844</td>\n",
              "      <td>2.0</td>\n",
              "      <td>65030.0</td>\n",
              "      <td>8.869191</td>\n",
              "      <td>12.250001</td>\n",
              "      <td>25.167536</td>\n",
              "      <td>22.842165</td>\n",
              "      <td>2.842462</td>\n",
              "      <td>2.534627</td>\n",
              "      <td>...</td>\n",
              "      <td>2927.784424</td>\n",
              "      <td>444920.34375</td>\n",
              "      <td>6421580.5</td>\n",
              "      <td>-2866.935303</td>\n",
              "      <td>NaN</td>\n",
              "      <td>NaN</td>\n",
              "      <td>NaN</td>\n",
              "      <td>NaN</td>\n",
              "      <td>NaN</td>\n",
              "      <td>NaN</td>\n",
              "    </tr>\n",
              "    <tr>\n",
              "      <th>1</th>\n",
              "      <td>1</td>\n",
              "      <td>2927.9364</td>\n",
              "      <td>2.0</td>\n",
              "      <td>65030.0</td>\n",
              "      <td>8.864833</td>\n",
              "      <td>12.250001</td>\n",
              "      <td>23.963020</td>\n",
              "      <td>21.530174</td>\n",
              "      <td>2.728668</td>\n",
              "      <td>2.681297</td>\n",
              "      <td>...</td>\n",
              "      <td>2927.936279</td>\n",
              "      <td>444920.34375</td>\n",
              "      <td>6421580.5</td>\n",
              "      <td>-2867.087158</td>\n",
              "      <td>NaN</td>\n",
              "      <td>NaN</td>\n",
              "      <td>NaN</td>\n",
              "      <td>NaN</td>\n",
              "      <td>NaN</td>\n",
              "      <td>NaN</td>\n",
              "    </tr>\n",
              "    <tr>\n",
              "      <th>2</th>\n",
              "      <td>2</td>\n",
              "      <td>2928.0884</td>\n",
              "      <td>2.0</td>\n",
              "      <td>65030.0</td>\n",
              "      <td>8.837524</td>\n",
              "      <td>12.250001</td>\n",
              "      <td>23.825737</td>\n",
              "      <td>19.636332</td>\n",
              "      <td>2.934029</td>\n",
              "      <td>3.134141</td>\n",
              "      <td>...</td>\n",
              "      <td>2928.088379</td>\n",
              "      <td>444920.34375</td>\n",
              "      <td>6421580.5</td>\n",
              "      <td>-2867.239258</td>\n",
              "      <td>NaN</td>\n",
              "      <td>NaN</td>\n",
              "      <td>NaN</td>\n",
              "      <td>NaN</td>\n",
              "      <td>NaN</td>\n",
              "      <td>NaN</td>\n",
              "    </tr>\n",
              "    <tr>\n",
              "      <th>3</th>\n",
              "      <td>3</td>\n",
              "      <td>2928.2404</td>\n",
              "      <td>2.0</td>\n",
              "      <td>65030.0</td>\n",
              "      <td>8.838326</td>\n",
              "      <td>12.250001</td>\n",
              "      <td>24.269821</td>\n",
              "      <td>18.848274</td>\n",
              "      <td>3.507820</td>\n",
              "      <td>3.995121</td>\n",
              "      <td>...</td>\n",
              "      <td>2928.240478</td>\n",
              "      <td>444920.34375</td>\n",
              "      <td>6421580.5</td>\n",
              "      <td>-2867.391357</td>\n",
              "      <td>NaN</td>\n",
              "      <td>NaN</td>\n",
              "      <td>NaN</td>\n",
              "      <td>NaN</td>\n",
              "      <td>NaN</td>\n",
              "      <td>NaN</td>\n",
              "    </tr>\n",
              "    <tr>\n",
              "      <th>4</th>\n",
              "      <td>4</td>\n",
              "      <td>2928.3924</td>\n",
              "      <td>2.0</td>\n",
              "      <td>65030.0</td>\n",
              "      <td>8.846111</td>\n",
              "      <td>12.250001</td>\n",
              "      <td>24.782362</td>\n",
              "      <td>17.756601</td>\n",
              "      <td>4.167062</td>\n",
              "      <td>4.923522</td>\n",
              "      <td>...</td>\n",
              "      <td>2928.392334</td>\n",
              "      <td>444920.34375</td>\n",
              "      <td>6421580.5</td>\n",
              "      <td>-2867.543213</td>\n",
              "      <td>NaN</td>\n",
              "      <td>NaN</td>\n",
              "      <td>NaN</td>\n",
              "      <td>NaN</td>\n",
              "      <td>NaN</td>\n",
              "      <td>NaN</td>\n",
              "    </tr>\n",
              "  </tbody>\n",
              "</table>\n",
              "<p>5 rows × 28 columns</p>\n",
              "</div>\n",
              "      <button class=\"colab-df-convert\" onclick=\"convertToInteractive('df-1882bae1-8d6f-49c8-8d49-097b0c9d4870')\"\n",
              "              title=\"Convert this dataframe to an interactive table.\"\n",
              "              style=\"display:none;\">\n",
              "        \n",
              "  <svg xmlns=\"http://www.w3.org/2000/svg\" height=\"24px\"viewBox=\"0 0 24 24\"\n",
              "       width=\"24px\">\n",
              "    <path d=\"M0 0h24v24H0V0z\" fill=\"none\"/>\n",
              "    <path d=\"M18.56 5.44l.94 2.06.94-2.06 2.06-.94-2.06-.94-.94-2.06-.94 2.06-2.06.94zm-11 1L8.5 8.5l.94-2.06 2.06-.94-2.06-.94L8.5 2.5l-.94 2.06-2.06.94zm10 10l.94 2.06.94-2.06 2.06-.94-2.06-.94-.94-2.06-.94 2.06-2.06.94z\"/><path d=\"M17.41 7.96l-1.37-1.37c-.4-.4-.92-.59-1.43-.59-.52 0-1.04.2-1.43.59L10.3 9.45l-7.72 7.72c-.78.78-.78 2.05 0 2.83L4 21.41c.39.39.9.59 1.41.59.51 0 1.02-.2 1.41-.59l7.78-7.78 2.81-2.81c.8-.78.8-2.07 0-2.86zM5.41 20L4 18.59l7.72-7.72 1.47 1.35L5.41 20z\"/>\n",
              "  </svg>\n",
              "      </button>\n",
              "      \n",
              "  <style>\n",
              "    .colab-df-container {\n",
              "      display:flex;\n",
              "      flex-wrap:wrap;\n",
              "      gap: 12px;\n",
              "    }\n",
              "\n",
              "    .colab-df-convert {\n",
              "      background-color: #E8F0FE;\n",
              "      border: none;\n",
              "      border-radius: 50%;\n",
              "      cursor: pointer;\n",
              "      display: none;\n",
              "      fill: #1967D2;\n",
              "      height: 32px;\n",
              "      padding: 0 0 0 0;\n",
              "      width: 32px;\n",
              "    }\n",
              "\n",
              "    .colab-df-convert:hover {\n",
              "      background-color: #E2EBFA;\n",
              "      box-shadow: 0px 1px 2px rgba(60, 64, 67, 0.3), 0px 1px 3px 1px rgba(60, 64, 67, 0.15);\n",
              "      fill: #174EA6;\n",
              "    }\n",
              "\n",
              "    [theme=dark] .colab-df-convert {\n",
              "      background-color: #3B4455;\n",
              "      fill: #D2E3FC;\n",
              "    }\n",
              "\n",
              "    [theme=dark] .colab-df-convert:hover {\n",
              "      background-color: #434B5C;\n",
              "      box-shadow: 0px 1px 3px 1px rgba(0, 0, 0, 0.15);\n",
              "      filter: drop-shadow(0px 1px 2px rgba(0, 0, 0, 0.3));\n",
              "      fill: #FFFFFF;\n",
              "    }\n",
              "  </style>\n",
              "\n",
              "      <script>\n",
              "        const buttonEl =\n",
              "          document.querySelector('#df-1882bae1-8d6f-49c8-8d49-097b0c9d4870 button.colab-df-convert');\n",
              "        buttonEl.style.display =\n",
              "          google.colab.kernel.accessAllowed ? 'block' : 'none';\n",
              "\n",
              "        async function convertToInteractive(key) {\n",
              "          const element = document.querySelector('#df-1882bae1-8d6f-49c8-8d49-097b0c9d4870');\n",
              "          const dataTable =\n",
              "            await google.colab.kernel.invokeFunction('convertToInteractive',\n",
              "                                                     [key], {});\n",
              "          if (!dataTable) return;\n",
              "\n",
              "          const docLinkHtml = 'Like what you see? Visit the ' +\n",
              "            '<a target=\"_blank\" href=https://colab.research.google.com/notebooks/data_table.ipynb>data table notebook</a>'\n",
              "            + ' to learn more about interactive tables.';\n",
              "          element.innerHTML = '';\n",
              "          dataTable['output_type'] = 'display_data';\n",
              "          await google.colab.output.renderOutput(dataTable, element);\n",
              "          const docLink = document.createElement('div');\n",
              "          docLink.innerHTML = docLinkHtml;\n",
              "          element.appendChild(docLink);\n",
              "        }\n",
              "      </script>\n",
              "    </div>\n",
              "  </div>\n",
              "  "
            ]
          },
          "metadata": {},
          "execution_count": 911
        }
      ]
    },
    {
      "cell_type": "markdown",
      "source": [
        "##About Data"
      ],
      "metadata": {
        "id": "dfcBfEl1m13z"
      }
    },
    {
      "cell_type": "code",
      "source": [
        "data.shape"
      ],
      "metadata": {
        "colab": {
          "base_uri": "https://localhost:8080/"
        },
        "id": "K0T-8-viAx4z",
        "outputId": "13d505ac-0402-4b7a-adb2-05b88655f7ce"
      },
      "execution_count": 912,
      "outputs": [
        {
          "output_type": "execute_result",
          "data": {
            "text/plain": [
              "(14080, 28)"
            ]
          },
          "metadata": {},
          "execution_count": 912
        }
      ]
    },
    {
      "cell_type": "code",
      "source": [
        "data.columns"
      ],
      "metadata": {
        "colab": {
          "base_uri": "https://localhost:8080/"
        },
        "id": "5n7q1zA9QpP4",
        "outputId": "68c8e262-fd82-464c-907b-d0c2b21d7611"
      },
      "execution_count": 913,
      "outputs": [
        {
          "output_type": "execute_result",
          "data": {
            "text/plain": [
              "Index(['Unnamed: 0', 'DEPT', 'FORCE_2020_LITHOFACIES_CONFIDENCE',\n",
              "       'FORCE_2020_LITHOFACIES_LITHOLOGY', 'CALI', 'BS', 'ROPA', 'ROP', 'RDEP',\n",
              "       'RSHA', 'RMED', 'DTS', 'DTC', 'NPHI', 'PEF', 'GR', 'RHOB', 'DRHO',\n",
              "       'DEPTH_MD', 'X_LOC', 'Y_LOC', 'Z_LOC', 'MUDWEIGHT', 'RXO', 'SP', 'DCAL',\n",
              "       'RMIC', 'SGR'],\n",
              "      dtype='object')"
            ]
          },
          "metadata": {},
          "execution_count": 913
        }
      ]
    },
    {
      "cell_type": "markdown",
      "source": [
        "##Selecting Columns"
      ],
      "metadata": {
        "id": "GaTwbZuHm4N0"
      }
    },
    {
      "cell_type": "code",
      "source": [
        "data2 = data[[\"GR\",\"SP\",\"FORCE_2020_LITHOFACIES_LITHOLOGY\"]]"
      ],
      "metadata": {
        "id": "e1ovj7J1AylF"
      },
      "execution_count": 914,
      "outputs": []
    },
    {
      "cell_type": "code",
      "source": [
        "data2.head()"
      ],
      "metadata": {
        "colab": {
          "base_uri": "https://localhost:8080/",
          "height": 206
        },
        "id": "obDip2e8A9a0",
        "outputId": "31624ab0-8fbb-40e0-f95b-cf50ee7869fe"
      },
      "execution_count": 915,
      "outputs": [
        {
          "output_type": "execute_result",
          "data": {
            "text/plain": [
              "          GR  SP  FORCE_2020_LITHOFACIES_LITHOLOGY\n",
              "0  93.965614 NaN                           65030.0\n",
              "1  84.551598 NaN                           65030.0\n",
              "2  72.994385 NaN                           65030.0\n",
              "3  57.243507 NaN                           65030.0\n",
              "4  48.266670 NaN                           65030.0"
            ],
            "text/html": [
              "\n",
              "  <div id=\"df-585a4aeb-774c-45b1-bbe0-a312bef54c28\">\n",
              "    <div class=\"colab-df-container\">\n",
              "      <div>\n",
              "<style scoped>\n",
              "    .dataframe tbody tr th:only-of-type {\n",
              "        vertical-align: middle;\n",
              "    }\n",
              "\n",
              "    .dataframe tbody tr th {\n",
              "        vertical-align: top;\n",
              "    }\n",
              "\n",
              "    .dataframe thead th {\n",
              "        text-align: right;\n",
              "    }\n",
              "</style>\n",
              "<table border=\"1\" class=\"dataframe\">\n",
              "  <thead>\n",
              "    <tr style=\"text-align: right;\">\n",
              "      <th></th>\n",
              "      <th>GR</th>\n",
              "      <th>SP</th>\n",
              "      <th>FORCE_2020_LITHOFACIES_LITHOLOGY</th>\n",
              "    </tr>\n",
              "  </thead>\n",
              "  <tbody>\n",
              "    <tr>\n",
              "      <th>0</th>\n",
              "      <td>93.965614</td>\n",
              "      <td>NaN</td>\n",
              "      <td>65030.0</td>\n",
              "    </tr>\n",
              "    <tr>\n",
              "      <th>1</th>\n",
              "      <td>84.551598</td>\n",
              "      <td>NaN</td>\n",
              "      <td>65030.0</td>\n",
              "    </tr>\n",
              "    <tr>\n",
              "      <th>2</th>\n",
              "      <td>72.994385</td>\n",
              "      <td>NaN</td>\n",
              "      <td>65030.0</td>\n",
              "    </tr>\n",
              "    <tr>\n",
              "      <th>3</th>\n",
              "      <td>57.243507</td>\n",
              "      <td>NaN</td>\n",
              "      <td>65030.0</td>\n",
              "    </tr>\n",
              "    <tr>\n",
              "      <th>4</th>\n",
              "      <td>48.266670</td>\n",
              "      <td>NaN</td>\n",
              "      <td>65030.0</td>\n",
              "    </tr>\n",
              "  </tbody>\n",
              "</table>\n",
              "</div>\n",
              "      <button class=\"colab-df-convert\" onclick=\"convertToInteractive('df-585a4aeb-774c-45b1-bbe0-a312bef54c28')\"\n",
              "              title=\"Convert this dataframe to an interactive table.\"\n",
              "              style=\"display:none;\">\n",
              "        \n",
              "  <svg xmlns=\"http://www.w3.org/2000/svg\" height=\"24px\"viewBox=\"0 0 24 24\"\n",
              "       width=\"24px\">\n",
              "    <path d=\"M0 0h24v24H0V0z\" fill=\"none\"/>\n",
              "    <path d=\"M18.56 5.44l.94 2.06.94-2.06 2.06-.94-2.06-.94-.94-2.06-.94 2.06-2.06.94zm-11 1L8.5 8.5l.94-2.06 2.06-.94-2.06-.94L8.5 2.5l-.94 2.06-2.06.94zm10 10l.94 2.06.94-2.06 2.06-.94-2.06-.94-.94-2.06-.94 2.06-2.06.94z\"/><path d=\"M17.41 7.96l-1.37-1.37c-.4-.4-.92-.59-1.43-.59-.52 0-1.04.2-1.43.59L10.3 9.45l-7.72 7.72c-.78.78-.78 2.05 0 2.83L4 21.41c.39.39.9.59 1.41.59.51 0 1.02-.2 1.41-.59l7.78-7.78 2.81-2.81c.8-.78.8-2.07 0-2.86zM5.41 20L4 18.59l7.72-7.72 1.47 1.35L5.41 20z\"/>\n",
              "  </svg>\n",
              "      </button>\n",
              "      \n",
              "  <style>\n",
              "    .colab-df-container {\n",
              "      display:flex;\n",
              "      flex-wrap:wrap;\n",
              "      gap: 12px;\n",
              "    }\n",
              "\n",
              "    .colab-df-convert {\n",
              "      background-color: #E8F0FE;\n",
              "      border: none;\n",
              "      border-radius: 50%;\n",
              "      cursor: pointer;\n",
              "      display: none;\n",
              "      fill: #1967D2;\n",
              "      height: 32px;\n",
              "      padding: 0 0 0 0;\n",
              "      width: 32px;\n",
              "    }\n",
              "\n",
              "    .colab-df-convert:hover {\n",
              "      background-color: #E2EBFA;\n",
              "      box-shadow: 0px 1px 2px rgba(60, 64, 67, 0.3), 0px 1px 3px 1px rgba(60, 64, 67, 0.15);\n",
              "      fill: #174EA6;\n",
              "    }\n",
              "\n",
              "    [theme=dark] .colab-df-convert {\n",
              "      background-color: #3B4455;\n",
              "      fill: #D2E3FC;\n",
              "    }\n",
              "\n",
              "    [theme=dark] .colab-df-convert:hover {\n",
              "      background-color: #434B5C;\n",
              "      box-shadow: 0px 1px 3px 1px rgba(0, 0, 0, 0.15);\n",
              "      filter: drop-shadow(0px 1px 2px rgba(0, 0, 0, 0.3));\n",
              "      fill: #FFFFFF;\n",
              "    }\n",
              "  </style>\n",
              "\n",
              "      <script>\n",
              "        const buttonEl =\n",
              "          document.querySelector('#df-585a4aeb-774c-45b1-bbe0-a312bef54c28 button.colab-df-convert');\n",
              "        buttonEl.style.display =\n",
              "          google.colab.kernel.accessAllowed ? 'block' : 'none';\n",
              "\n",
              "        async function convertToInteractive(key) {\n",
              "          const element = document.querySelector('#df-585a4aeb-774c-45b1-bbe0-a312bef54c28');\n",
              "          const dataTable =\n",
              "            await google.colab.kernel.invokeFunction('convertToInteractive',\n",
              "                                                     [key], {});\n",
              "          if (!dataTable) return;\n",
              "\n",
              "          const docLinkHtml = 'Like what you see? Visit the ' +\n",
              "            '<a target=\"_blank\" href=https://colab.research.google.com/notebooks/data_table.ipynb>data table notebook</a>'\n",
              "            + ' to learn more about interactive tables.';\n",
              "          element.innerHTML = '';\n",
              "          dataTable['output_type'] = 'display_data';\n",
              "          await google.colab.output.renderOutput(dataTable, element);\n",
              "          const docLink = document.createElement('div');\n",
              "          docLink.innerHTML = docLinkHtml;\n",
              "          element.appendChild(docLink);\n",
              "        }\n",
              "      </script>\n",
              "    </div>\n",
              "  </div>\n",
              "  "
            ]
          },
          "metadata": {},
          "execution_count": 915
        }
      ]
    },
    {
      "cell_type": "markdown",
      "source": [
        "30000: Sandstone\n",
        "\n",
        "65030: Sandstone/Shale\n",
        "\n",
        "65000: Shale\n",
        "\n",
        "80000: Marl\n",
        "\n",
        "70000: Limestone"
      ],
      "metadata": {
        "id": "PdFosQeVBJEr"
      }
    },
    {
      "cell_type": "code",
      "source": [
        "data2 = data2[data2[\"FORCE_2020_LITHOFACIES_LITHOLOGY\"] != 80000]"
      ],
      "metadata": {
        "id": "MJx9cA00BBji"
      },
      "execution_count": 916,
      "outputs": []
    },
    {
      "cell_type": "code",
      "source": [
        "data2 = data2[data2[\"FORCE_2020_LITHOFACIES_LITHOLOGY\"] != 70000]"
      ],
      "metadata": {
        "id": "ewk5OgtvBYSS"
      },
      "execution_count": 917,
      "outputs": []
    },
    {
      "cell_type": "code",
      "source": [
        "data2.shape"
      ],
      "metadata": {
        "colab": {
          "base_uri": "https://localhost:8080/"
        },
        "id": "Si1XVJPNBbgV",
        "outputId": "57bb8216-99eb-44af-f49d-5bc647b8a753"
      },
      "execution_count": 918,
      "outputs": [
        {
          "output_type": "execute_result",
          "data": {
            "text/plain": [
              "(10198, 3)"
            ]
          },
          "metadata": {},
          "execution_count": 918
        }
      ]
    },
    {
      "cell_type": "code",
      "source": [
        "data2.dropna(inplace = True)"
      ],
      "metadata": {
        "id": "WnpueeAvRps3"
      },
      "execution_count": 919,
      "outputs": []
    },
    {
      "cell_type": "code",
      "source": [
        "data2[\"FORCE_2020_LITHOFACIES_LITHOLOGY\"] = data2[\"FORCE_2020_LITHOFACIES_LITHOLOGY\"].map({\n",
        "    30000 : 0,\n",
        "    65000 : 2,\n",
        "    65030 : 1\n",
        "})\n",
        "data2.head()"
      ],
      "metadata": {
        "colab": {
          "base_uri": "https://localhost:8080/",
          "height": 206
        },
        "id": "Nh7BQMS3BdNQ",
        "outputId": "e9166a31-69a7-4b3f-b1e0-ff97c8424f5f"
      },
      "execution_count": 920,
      "outputs": [
        {
          "output_type": "execute_result",
          "data": {
            "text/plain": [
              "             GR         SP  FORCE_2020_LITHOFACIES_LITHOLOGY\n",
              "1959  39.730061  75.965141                               0.0\n",
              "1960  43.091839  76.094032                               0.0\n",
              "1961  43.753174  76.680397                               0.0\n",
              "1962  42.127659  77.512657                               0.0\n",
              "1963  38.995285  78.468277                               0.0"
            ],
            "text/html": [
              "\n",
              "  <div id=\"df-a7faf05c-98f7-45ab-b0cd-fbb07151ea00\">\n",
              "    <div class=\"colab-df-container\">\n",
              "      <div>\n",
              "<style scoped>\n",
              "    .dataframe tbody tr th:only-of-type {\n",
              "        vertical-align: middle;\n",
              "    }\n",
              "\n",
              "    .dataframe tbody tr th {\n",
              "        vertical-align: top;\n",
              "    }\n",
              "\n",
              "    .dataframe thead th {\n",
              "        text-align: right;\n",
              "    }\n",
              "</style>\n",
              "<table border=\"1\" class=\"dataframe\">\n",
              "  <thead>\n",
              "    <tr style=\"text-align: right;\">\n",
              "      <th></th>\n",
              "      <th>GR</th>\n",
              "      <th>SP</th>\n",
              "      <th>FORCE_2020_LITHOFACIES_LITHOLOGY</th>\n",
              "    </tr>\n",
              "  </thead>\n",
              "  <tbody>\n",
              "    <tr>\n",
              "      <th>1959</th>\n",
              "      <td>39.730061</td>\n",
              "      <td>75.965141</td>\n",
              "      <td>0.0</td>\n",
              "    </tr>\n",
              "    <tr>\n",
              "      <th>1960</th>\n",
              "      <td>43.091839</td>\n",
              "      <td>76.094032</td>\n",
              "      <td>0.0</td>\n",
              "    </tr>\n",
              "    <tr>\n",
              "      <th>1961</th>\n",
              "      <td>43.753174</td>\n",
              "      <td>76.680397</td>\n",
              "      <td>0.0</td>\n",
              "    </tr>\n",
              "    <tr>\n",
              "      <th>1962</th>\n",
              "      <td>42.127659</td>\n",
              "      <td>77.512657</td>\n",
              "      <td>0.0</td>\n",
              "    </tr>\n",
              "    <tr>\n",
              "      <th>1963</th>\n",
              "      <td>38.995285</td>\n",
              "      <td>78.468277</td>\n",
              "      <td>0.0</td>\n",
              "    </tr>\n",
              "  </tbody>\n",
              "</table>\n",
              "</div>\n",
              "      <button class=\"colab-df-convert\" onclick=\"convertToInteractive('df-a7faf05c-98f7-45ab-b0cd-fbb07151ea00')\"\n",
              "              title=\"Convert this dataframe to an interactive table.\"\n",
              "              style=\"display:none;\">\n",
              "        \n",
              "  <svg xmlns=\"http://www.w3.org/2000/svg\" height=\"24px\"viewBox=\"0 0 24 24\"\n",
              "       width=\"24px\">\n",
              "    <path d=\"M0 0h24v24H0V0z\" fill=\"none\"/>\n",
              "    <path d=\"M18.56 5.44l.94 2.06.94-2.06 2.06-.94-2.06-.94-.94-2.06-.94 2.06-2.06.94zm-11 1L8.5 8.5l.94-2.06 2.06-.94-2.06-.94L8.5 2.5l-.94 2.06-2.06.94zm10 10l.94 2.06.94-2.06 2.06-.94-2.06-.94-.94-2.06-.94 2.06-2.06.94z\"/><path d=\"M17.41 7.96l-1.37-1.37c-.4-.4-.92-.59-1.43-.59-.52 0-1.04.2-1.43.59L10.3 9.45l-7.72 7.72c-.78.78-.78 2.05 0 2.83L4 21.41c.39.39.9.59 1.41.59.51 0 1.02-.2 1.41-.59l7.78-7.78 2.81-2.81c.8-.78.8-2.07 0-2.86zM5.41 20L4 18.59l7.72-7.72 1.47 1.35L5.41 20z\"/>\n",
              "  </svg>\n",
              "      </button>\n",
              "      \n",
              "  <style>\n",
              "    .colab-df-container {\n",
              "      display:flex;\n",
              "      flex-wrap:wrap;\n",
              "      gap: 12px;\n",
              "    }\n",
              "\n",
              "    .colab-df-convert {\n",
              "      background-color: #E8F0FE;\n",
              "      border: none;\n",
              "      border-radius: 50%;\n",
              "      cursor: pointer;\n",
              "      display: none;\n",
              "      fill: #1967D2;\n",
              "      height: 32px;\n",
              "      padding: 0 0 0 0;\n",
              "      width: 32px;\n",
              "    }\n",
              "\n",
              "    .colab-df-convert:hover {\n",
              "      background-color: #E2EBFA;\n",
              "      box-shadow: 0px 1px 2px rgba(60, 64, 67, 0.3), 0px 1px 3px 1px rgba(60, 64, 67, 0.15);\n",
              "      fill: #174EA6;\n",
              "    }\n",
              "\n",
              "    [theme=dark] .colab-df-convert {\n",
              "      background-color: #3B4455;\n",
              "      fill: #D2E3FC;\n",
              "    }\n",
              "\n",
              "    [theme=dark] .colab-df-convert:hover {\n",
              "      background-color: #434B5C;\n",
              "      box-shadow: 0px 1px 3px 1px rgba(0, 0, 0, 0.15);\n",
              "      filter: drop-shadow(0px 1px 2px rgba(0, 0, 0, 0.3));\n",
              "      fill: #FFFFFF;\n",
              "    }\n",
              "  </style>\n",
              "\n",
              "      <script>\n",
              "        const buttonEl =\n",
              "          document.querySelector('#df-a7faf05c-98f7-45ab-b0cd-fbb07151ea00 button.colab-df-convert');\n",
              "        buttonEl.style.display =\n",
              "          google.colab.kernel.accessAllowed ? 'block' : 'none';\n",
              "\n",
              "        async function convertToInteractive(key) {\n",
              "          const element = document.querySelector('#df-a7faf05c-98f7-45ab-b0cd-fbb07151ea00');\n",
              "          const dataTable =\n",
              "            await google.colab.kernel.invokeFunction('convertToInteractive',\n",
              "                                                     [key], {});\n",
              "          if (!dataTable) return;\n",
              "\n",
              "          const docLinkHtml = 'Like what you see? Visit the ' +\n",
              "            '<a target=\"_blank\" href=https://colab.research.google.com/notebooks/data_table.ipynb>data table notebook</a>'\n",
              "            + ' to learn more about interactive tables.';\n",
              "          element.innerHTML = '';\n",
              "          dataTable['output_type'] = 'display_data';\n",
              "          await google.colab.output.renderOutput(dataTable, element);\n",
              "          const docLink = document.createElement('div');\n",
              "          docLink.innerHTML = docLinkHtml;\n",
              "          element.appendChild(docLink);\n",
              "        }\n",
              "      </script>\n",
              "    </div>\n",
              "  </div>\n",
              "  "
            ]
          },
          "metadata": {},
          "execution_count": 920
        }
      ]
    },
    {
      "cell_type": "markdown",
      "source": [
        "##Visualisations"
      ],
      "metadata": {
        "id": "pNAIdfv9m8Fz"
      }
    },
    {
      "cell_type": "code",
      "source": [
        "import matplotlib.pyplot as plt\n",
        "\n",
        "plt.figure(figsize = (8,8))\n",
        "plt.hist(data2[\"GR\"])\n",
        "plt.show()"
      ],
      "metadata": {
        "colab": {
          "base_uri": "https://localhost:8080/",
          "height": 483
        },
        "id": "LiNsDGhUEKBO",
        "outputId": "486f846e-a9c6-4bd2-ef4d-15f7fa5c9064"
      },
      "execution_count": 921,
      "outputs": [
        {
          "output_type": "display_data",
          "data": {
            "text/plain": [
              "<Figure size 576x576 with 1 Axes>"
            ],
            "image/png": "[encoded data removed]"
          },
          "metadata": {
            "needs_background": "light"
          }
        }
      ]
    },
    {
      "cell_type": "code",
      "source": [
        "plt.figure(figsize = (8,8))\n",
        "plt.hist(data2[\"SP\"])\n",
        "plt.show()"
      ],
      "metadata": {
        "colab": {
          "base_uri": "https://localhost:8080/",
          "height": 483
        },
        "id": "dSRWTyfFRzDi",
        "outputId": "d75b3518-773f-4908-d169-0250595d1fdc"
      },
      "execution_count": 922,
      "outputs": [
        {
          "output_type": "display_data",
          "data": {
            "text/plain": [
              "<Figure size 576x576 with 1 Axes>"
            ],
            "image/png": "[encoded data removed]"
          },
          "metadata": {
            "needs_background": "light"
          }
        }
      ]
    },
    {
      "cell_type": "markdown",
      "source": [
        "##Preprocessing Data"
      ],
      "metadata": {
        "id": "l0bQjpnynD_b"
      }
    },
    {
      "cell_type": "code",
      "source": [
        "data2 = data2[data2[\"GR\"] < 200]"
      ],
      "metadata": {
        "id": "M03r6ihLFDW0"
      },
      "execution_count": 923,
      "outputs": []
    },
    {
      "cell_type": "code",
      "source": [
        "data2.shape"
      ],
      "metadata": {
        "colab": {
          "base_uri": "https://localhost:8080/"
        },
        "id": "Sh9v4JAjFP7J",
        "outputId": "590364ba-672b-4211-f185-3ff7fe364403"
      },
      "execution_count": 924,
      "outputs": [
        {
          "output_type": "execute_result",
          "data": {
            "text/plain": [
              "(7486, 3)"
            ]
          },
          "metadata": {},
          "execution_count": 924
        }
      ]
    },
    {
      "cell_type": "code",
      "source": [
        "j = data2[\"GR\"].to_numpy()\n",
        "j = j.reshape(-1,1)"
      ],
      "metadata": {
        "id": "aREOsFXwCz2N"
      },
      "execution_count": 925,
      "outputs": []
    },
    {
      "cell_type": "code",
      "source": [
        "k = data2[\"SP\"].to_numpy()\n",
        "k = k.reshape(-1,1)"
      ],
      "metadata": {
        "id": "aHkq1GV8R6_S"
      },
      "execution_count": 926,
      "outputs": []
    },
    {
      "cell_type": "code",
      "source": [
        "j = scaler.fit_transform(j)\n",
        "k = scaler.fit_transform(k)"
      ],
      "metadata": {
        "id": "o0Oh38M-B0V5"
      },
      "execution_count": 927,
      "outputs": []
    },
    {
      "cell_type": "code",
      "source": [
        "data2[\"GR\"] = j\n",
        "data2[\"SP\"] = k"
      ],
      "metadata": {
        "id": "YN75Cql4Dntb"
      },
      "execution_count": 928,
      "outputs": []
    },
    {
      "cell_type": "code",
      "source": [
        "data2.head()"
      ],
      "metadata": {
        "colab": {
          "base_uri": "https://localhost:8080/",
          "height": 206
        },
        "id": "vJiKM_l3CY-D",
        "outputId": "6e7ef251-38c3-404a-abbb-57896031eaf9"
      },
      "execution_count": 929,
      "outputs": [
        {
          "output_type": "execute_result",
          "data": {
            "text/plain": [
              "            GR        SP  FORCE_2020_LITHOFACIES_LITHOLOGY\n",
              "1959 -0.950499  0.342598                               0.0\n",
              "1960 -0.849665  0.345090                               0.0\n",
              "1961 -0.829829  0.356428                               0.0\n",
              "1962 -0.878585  0.372520                               0.0\n",
              "1963 -0.972538  0.390998                               0.0"
            ],
            "text/html": [
              "\n",
              "  <div id=\"df-3589e82c-52eb-4a12-b73a-29b2d481ae9d\">\n",
              "    <div class=\"colab-df-container\">\n",
              "      <div>\n",
              "<style scoped>\n",
              "    .dataframe tbody tr th:only-of-type {\n",
              "        vertical-align: middle;\n",
              "    }\n",
              "\n",
              "    .dataframe tbody tr th {\n",
              "        vertical-align: top;\n",
              "    }\n",
              "\n",
              "    .dataframe thead th {\n",
              "        text-align: right;\n",
              "    }\n",
              "</style>\n",
              "<table border=\"1\" class=\"dataframe\">\n",
              "  <thead>\n",
              "    <tr style=\"text-align: right;\">\n",
              "      <th></th>\n",
              "      <th>GR</th>\n",
              "      <th>SP</th>\n",
              "      <th>FORCE_2020_LITHOFACIES_LITHOLOGY</th>\n",
              "    </tr>\n",
              "  </thead>\n",
              "  <tbody>\n",
              "    <tr>\n",
              "      <th>1959</th>\n",
              "      <td>-0.950499</td>\n",
              "      <td>0.342598</td>\n",
              "      <td>0.0</td>\n",
              "    </tr>\n",
              "    <tr>\n",
              "      <th>1960</th>\n",
              "      <td>-0.849665</td>\n",
              "      <td>0.345090</td>\n",
              "      <td>0.0</td>\n",
              "    </tr>\n",
              "    <tr>\n",
              "      <th>1961</th>\n",
              "      <td>-0.829829</td>\n",
              "      <td>0.356428</td>\n",
              "      <td>0.0</td>\n",
              "    </tr>\n",
              "    <tr>\n",
              "      <th>1962</th>\n",
              "      <td>-0.878585</td>\n",
              "      <td>0.372520</td>\n",
              "      <td>0.0</td>\n",
              "    </tr>\n",
              "    <tr>\n",
              "      <th>1963</th>\n",
              "      <td>-0.972538</td>\n",
              "      <td>0.390998</td>\n",
              "      <td>0.0</td>\n",
              "    </tr>\n",
              "  </tbody>\n",
              "</table>\n",
              "</div>\n",
              "      <button class=\"colab-df-convert\" onclick=\"convertToInteractive('df-3589e82c-52eb-4a12-b73a-29b2d481ae9d')\"\n",
              "              title=\"Convert this dataframe to an interactive table.\"\n",
              "              style=\"display:none;\">\n",
              "        \n",
              "  <svg xmlns=\"http://www.w3.org/2000/svg\" height=\"24px\"viewBox=\"0 0 24 24\"\n",
              "       width=\"24px\">\n",
              "    <path d=\"M0 0h24v24H0V0z\" fill=\"none\"/>\n",
              "    <path d=\"M18.56 5.44l.94 2.06.94-2.06 2.06-.94-2.06-.94-.94-2.06-.94 2.06-2.06.94zm-11 1L8.5 8.5l.94-2.06 2.06-.94-2.06-.94L8.5 2.5l-.94 2.06-2.06.94zm10 10l.94 2.06.94-2.06 2.06-.94-2.06-.94-.94-2.06-.94 2.06-2.06.94z\"/><path d=\"M17.41 7.96l-1.37-1.37c-.4-.4-.92-.59-1.43-.59-.52 0-1.04.2-1.43.59L10.3 9.45l-7.72 7.72c-.78.78-.78 2.05 0 2.83L4 21.41c.39.39.9.59 1.41.59.51 0 1.02-.2 1.41-.59l7.78-7.78 2.81-2.81c.8-.78.8-2.07 0-2.86zM5.41 20L4 18.59l7.72-7.72 1.47 1.35L5.41 20z\"/>\n",
              "  </svg>\n",
              "      </button>\n",
              "      \n",
              "  <style>\n",
              "    .colab-df-container {\n",
              "      display:flex;\n",
              "      flex-wrap:wrap;\n",
              "      gap: 12px;\n",
              "    }\n",
              "\n",
              "    .colab-df-convert {\n",
              "      background-color: #E8F0FE;\n",
              "      border: none;\n",
              "      border-radius: 50%;\n",
              "      cursor: pointer;\n",
              "      display: none;\n",
              "      fill: #1967D2;\n",
              "      height: 32px;\n",
              "      padding: 0 0 0 0;\n",
              "      width: 32px;\n",
              "    }\n",
              "\n",
              "    .colab-df-convert:hover {\n",
              "      background-color: #E2EBFA;\n",
              "      box-shadow: 0px 1px 2px rgba(60, 64, 67, 0.3), 0px 1px 3px 1px rgba(60, 64, 67, 0.15);\n",
              "      fill: #174EA6;\n",
              "    }\n",
              "\n",
              "    [theme=dark] .colab-df-convert {\n",
              "      background-color: #3B4455;\n",
              "      fill: #D2E3FC;\n",
              "    }\n",
              "\n",
              "    [theme=dark] .colab-df-convert:hover {\n",
              "      background-color: #434B5C;\n",
              "      box-shadow: 0px 1px 3px 1px rgba(0, 0, 0, 0.15);\n",
              "      filter: drop-shadow(0px 1px 2px rgba(0, 0, 0, 0.3));\n",
              "      fill: #FFFFFF;\n",
              "    }\n",
              "  </style>\n",
              "\n",
              "      <script>\n",
              "        const buttonEl =\n",
              "          document.querySelector('#df-3589e82c-52eb-4a12-b73a-29b2d481ae9d button.colab-df-convert');\n",
              "        buttonEl.style.display =\n",
              "          google.colab.kernel.accessAllowed ? 'block' : 'none';\n",
              "\n",
              "        async function convertToInteractive(key) {\n",
              "          const element = document.querySelector('#df-3589e82c-52eb-4a12-b73a-29b2d481ae9d');\n",
              "          const dataTable =\n",
              "            await google.colab.kernel.invokeFunction('convertToInteractive',\n",
              "                                                     [key], {});\n",
              "          if (!dataTable) return;\n",
              "\n",
              "          const docLinkHtml = 'Like what you see? Visit the ' +\n",
              "            '<a target=\"_blank\" href=https://colab.research.google.com/notebooks/data_table.ipynb>data table notebook</a>'\n",
              "            + ' to learn more about interactive tables.';\n",
              "          element.innerHTML = '';\n",
              "          dataTable['output_type'] = 'display_data';\n",
              "          await google.colab.output.renderOutput(dataTable, element);\n",
              "          const docLink = document.createElement('div');\n",
              "          docLink.innerHTML = docLinkHtml;\n",
              "          element.appendChild(docLink);\n",
              "        }\n",
              "      </script>\n",
              "    </div>\n",
              "  </div>\n",
              "  "
            ]
          },
          "metadata": {},
          "execution_count": 929
        }
      ]
    },
    {
      "cell_type": "code",
      "source": [
        "data2.dropna(inplace = True)"
      ],
      "metadata": {
        "id": "aOxoEyEqJrKr"
      },
      "execution_count": 930,
      "outputs": []
    },
    {
      "cell_type": "code",
      "source": [
        "x = data2[[\"GR\",\"SP\"]].to_numpy()\n",
        "y = data2[\"FORCE_2020_LITHOFACIES_LITHOLOGY\"].to_numpy()"
      ],
      "metadata": {
        "id": "ob7AdMYUI5v1"
      },
      "execution_count": 931,
      "outputs": []
    },
    {
      "cell_type": "code",
      "source": [
        "data2.isna().sum()"
      ],
      "metadata": {
        "colab": {
          "base_uri": "https://localhost:8080/"
        },
        "id": "YuW6DWMsJjr7",
        "outputId": "78805a65-4f64-4401-9eb6-351add448b2c"
      },
      "execution_count": 932,
      "outputs": [
        {
          "output_type": "execute_result",
          "data": {
            "text/plain": [
              "GR                                  0\n",
              "SP                                  0\n",
              "FORCE_2020_LITHOFACIES_LITHOLOGY    0\n",
              "dtype: int64"
            ]
          },
          "metadata": {},
          "execution_count": 932
        }
      ]
    },
    {
      "cell_type": "code",
      "source": [
        "data2[\"FORCE_2020_LITHOFACIES_LITHOLOGY\"].value_counts()"
      ],
      "metadata": {
        "colab": {
          "base_uri": "https://localhost:8080/"
        },
        "id": "6YfKVfuJJ2UJ",
        "outputId": "9620409c-f176-4cea-fcbf-810b831272cf"
      },
      "execution_count": 933,
      "outputs": [
        {
          "output_type": "execute_result",
          "data": {
            "text/plain": [
              "2.0    3029\n",
              "0.0    2792\n",
              "1.0    1610\n",
              "Name: FORCE_2020_LITHOFACIES_LITHOLOGY, dtype: int64"
            ]
          },
          "metadata": {},
          "execution_count": 933
        }
      ]
    },
    {
      "cell_type": "markdown",
      "source": [
        "##Modelling Data"
      ],
      "metadata": {
        "id": "XH0mTcGFnJaz"
      }
    },
    {
      "cell_type": "code",
      "source": [
        "x_train, x_test, y_train, y_test = train_test_split(x, y, test_size = 0.2, random_state = 11)"
      ],
      "metadata": {
        "id": "ajQA-SL7H2nM"
      },
      "execution_count": 934,
      "outputs": []
    },
    {
      "cell_type": "code",
      "source": [
        "svc = SVC()\n",
        "svc.fit(x_train, y_train)\n",
        "pred_svc = svc.predict(x_test)\n",
        "\n",
        "print(classification_report(y_test, pred_svc))"
      ],
      "metadata": {
        "colab": {
          "base_uri": "https://localhost:8080/"
        },
        "id": "bHC7MSqOI2pG",
        "outputId": "912027f1-463f-4133-95a8-f3e8f9c338a1"
      },
      "execution_count": 935,
      "outputs": [
        {
          "output_type": "stream",
          "name": "stdout",
          "text": [
            "              precision    recall  f1-score   support\n",
            "\n",
            "         0.0       0.89      0.81      0.85       575\n",
            "         1.0       0.54      0.75      0.62       311\n",
            "         2.0       0.83      0.73      0.78       601\n",
            "\n",
            "    accuracy                           0.76      1487\n",
            "   macro avg       0.75      0.76      0.75      1487\n",
            "weighted avg       0.79      0.76      0.77      1487\n",
            "\n"
          ]
        }
      ]
    },
    {
      "cell_type": "code",
      "source": [
        "rfc = RandomForestClassifier()\n",
        "rfc.fit(x_train, y_train)\n",
        "pred_rfc = rfc.predict(x_test)\n",
        "\n",
        "print(classification_report(y_test, pred_rfc))"
      ],
      "metadata": {
        "colab": {
          "base_uri": "https://localhost:8080/"
        },
        "id": "ffG6KFGAKI-s",
        "outputId": "b3104438-5d2c-40aa-b5c5-40bc0ebb80e6"
      },
      "execution_count": 936,
      "outputs": [
        {
          "output_type": "stream",
          "name": "stdout",
          "text": [
            "              precision    recall  f1-score   support\n",
            "\n",
            "         0.0       0.85      0.86      0.86       575\n",
            "         1.0       0.73      0.73      0.73       311\n",
            "         2.0       0.88      0.88      0.88       601\n",
            "\n",
            "    accuracy                           0.84      1487\n",
            "   macro avg       0.82      0.82      0.82      1487\n",
            "weighted avg       0.84      0.84      0.84      1487\n",
            "\n"
          ]
        }
      ]
    },
    {
      "cell_type": "code",
      "source": [
        "dtc = DecisionTreeClassifier()\n",
        "dtc.fit(x_train, y_train)\n",
        "pred_dtc = dtc.predict(x_test)\n",
        "\n",
        "print(classification_report(y_test, pred_dtc))"
      ],
      "metadata": {
        "colab": {
          "base_uri": "https://localhost:8080/"
        },
        "id": "pPlJXC7eKU7p",
        "outputId": "05719639-c1bb-403f-d866-ae5ff3d9feb3"
      },
      "execution_count": 937,
      "outputs": [
        {
          "output_type": "stream",
          "name": "stdout",
          "text": [
            "              precision    recall  f1-score   support\n",
            "\n",
            "         0.0       0.85      0.85      0.85       575\n",
            "         1.0       0.69      0.73      0.71       311\n",
            "         2.0       0.87      0.85      0.86       601\n",
            "\n",
            "    accuracy                           0.82      1487\n",
            "   macro avg       0.80      0.81      0.81      1487\n",
            "weighted avg       0.83      0.82      0.82      1487\n",
            "\n"
          ]
        }
      ]
    },
    {
      "cell_type": "markdown",
      "source": [
        "#Well Logging is all about following the patterns to identify the lithologies, By integrating ML into Logging services can make a huge change in the effficiency of the interpretation of logs. \n",
        "#The above models ran on few data points due insufficient data, if ran in more data we can expect better results from the models.\n",
        "#We can also use the data on ANN, which can predict better comparef to ML given sufficient data."
      ],
      "metadata": {
        "id": "idYenW65oE8d"
      }
    }
  ]
}